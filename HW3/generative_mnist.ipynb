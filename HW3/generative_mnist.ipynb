{
 "cells": [
  {
   "cell_type": "markdown",
   "metadata": {},
   "source": [
    "# Gaussian generative models for handwritten digit classification"
   ]
  },
  {
   "cell_type": "markdown",
   "metadata": {},
   "source": [
    "Recall that the 1-NN classifier yielded a 3.09% test error rate on the MNIST data set of handwritten digits. We will now see that a Gaussian generative model does almost as well, while being significantly faster and more compact."
   ]
  },
  {
   "cell_type": "markdown",
   "metadata": {},
   "source": [
    "## 1. Set up notebook and load in data"
   ]
  },
  {
   "cell_type": "markdown",
   "metadata": {},
   "source": [
    "As usual, we start by importing the required packages and data. For this notebook we will be using the *entire* `MNIST` dataset. The code below defines some helper functions that will load `MNIST` onto your computer."
   ]
  },
  {
   "cell_type": "code",
   "execution_count": 1,
   "metadata": {
    "collapsed": true
   },
   "outputs": [],
   "source": [
    "%matplotlib inline\n",
    "import matplotlib.pyplot as plt \n",
    "import gzip, os, sys\n",
    "import numpy as np\n",
    "from scipy.stats import multivariate_normal\n",
    "\n",
    "if sys.version_info[0] == 2:\n",
    "    from urllib import urlretrieve\n",
    "else:\n",
    "    from urllib.request import urlretrieve"
   ]
  },
  {
   "cell_type": "code",
   "execution_count": 2,
   "metadata": {
    "collapsed": true
   },
   "outputs": [],
   "source": [
    "# Function that downloads a specified MNIST data file from Yann Le Cun's website\n",
    "def download(filename, source='http://yann.lecun.com/exdb/mnist/'):\n",
    "    print(\"Downloading %s\" % filename)\n",
    "    urlretrieve(source + filename, filename)\n",
    "\n",
    "# Invokes download() if necessary, then reads in images\n",
    "def load_mnist_images(filename):\n",
    "    if not os.path.exists(filename):\n",
    "        download(filename)\n",
    "    with gzip.open(filename, 'rb') as f:\n",
    "        data = np.frombuffer(f.read(), np.uint8, offset=16)\n",
    "    data = data.reshape(-1,784)\n",
    "    return data\n",
    "\n",
    "def load_mnist_labels(filename):\n",
    "    if not os.path.exists(filename):\n",
    "        download(filename)\n",
    "    with gzip.open(filename, 'rb') as f:\n",
    "        data = np.frombuffer(f.read(), np.uint8, offset=8)\n",
    "    return data"
   ]
  },
  {
   "cell_type": "markdown",
   "metadata": {},
   "source": [
    "Now load in the training set and test set"
   ]
  },
  {
   "cell_type": "code",
   "execution_count": 3,
   "metadata": {
    "collapsed": true
   },
   "outputs": [],
   "source": [
    "## Load the training set\n",
    "train_data = load_mnist_images('train-images-idx3-ubyte.gz')\n",
    "train_labels = load_mnist_labels('train-labels-idx1-ubyte.gz')\n",
    "\n",
    "## Load the testing set\n",
    "test_data = load_mnist_images('t10k-images-idx3-ubyte.gz')\n",
    "test_labels = load_mnist_labels('t10k-labels-idx1-ubyte.gz')"
   ]
  },
  {
   "cell_type": "markdown",
   "metadata": {},
   "source": [
    "The function **displaychar** shows a single MNIST digit. To do this, it first has to reshape the 784-dimensional vector into a 28x28 image."
   ]
  },
  {
   "cell_type": "code",
   "execution_count": 4,
   "metadata": {
    "collapsed": true
   },
   "outputs": [],
   "source": [
    "def displaychar(image):\n",
    "    plt.imshow(np.reshape(image, (28,28)), cmap=plt.cm.gray)\n",
    "    plt.axis('off')\n",
    "    plt.show()"
   ]
  },
  {
   "cell_type": "code",
   "execution_count": 5,
   "metadata": {},
   "outputs": [
    {
     "data": {
      "image/png": "[encoded data removed]",
      "text/plain": [
       "<Figure size 640x480 with 1 Axes>"
      ]
     },
     "metadata": {},
     "output_type": "display_data"
    }
   ],
   "source": [
    "displaychar(train_data[58])"
   ]
  },
  {
   "cell_type": "markdown",
   "metadata": {},
   "source": [
    "The training set consists of 60,000 images. Thus `train_data` should be a 60000x784 array while `train_labels` should be 60000x1. Let's check."
   ]
  },
  {
   "cell_type": "code",
   "execution_count": 6,
   "metadata": {},
   "outputs": [
    {
     "data": {
      "text/plain": [
       "((60000, 784), (60000,))"
      ]
     },
     "execution_count": 6,
     "metadata": {},
     "output_type": "execute_result"
    }
   ],
   "source": [
    "train_data.shape, train_labels.shape"
   ]
  },
  {
   "cell_type": "markdown",
   "metadata": {},
   "source": [
    "## 2. Fit a Gaussian generative model to the training data"
   ]
  },
  {
   "cell_type": "markdown",
   "metadata": {},
   "source": [
    "**<font color=\"magenta\">For you to do:</font>** Define a function, **fit_generative_model**, that takes as input a training set (data `x` and labels `y`) and fits a Gaussian generative model to it. It should return the parameters of this generative model; for each label `j = 0,1,...,9`, we have:\n",
    "* `pi[j]`: the frequency of that label\n",
    "* `mu[j]`: the 784-dimensional mean vector\n",
    "* `sigma[j]`: the 784x784 covariance matrix\n",
    "\n",
    "This means that `pi` is 10x1, `mu` is 10x784, and `sigma` is 10x784x784.\n",
    "\n",
    "We have already seen how to fit a Gaussian generative model in the Winery example, but now there is an added ingredient. <font color=\"magenta\">The empirical covariances are very likely to be singular (or close to singular), which means that we won't be able to do calculations with them</font>. Thus it is important to **regularize** these matrices. The standard way of doing this is to add `cI` to them, where `c` is some constant and `I` is the 784-dimensional identity matrix. (To put it another way, we compute the empirical covariances and then increase their diagonal entries by some constant `c`.)\n",
    "\n",
    "This modification is guaranteed to yield covariance matrices that are non-singular, for any `c > 0`, no matter how small. But this doesn't mean that we should make `c` as small as possible. Indeed, `c` is now a parameter, and by setting it appropriately, we can improve the performance of the model. We will study **regularization** in greater detail over the coming weeks.\n",
    "\n",
    "Your routine needs to choose a good setting of `c`. Crucially, this needs to be done using the training set alone. So you might try setting aside part of the training set as a validation set, or using some kind of cross-validation."
   ]
  },
  {
   "cell_type": "code",
   "execution_count": 9,
   "metadata": {},
   "outputs": [
    {
     "data": {
      "text/plain": [
       "(784, 784)"
      ]
     },
     "execution_count": 9,
     "metadata": {},
     "output_type": "execute_result"
    }
   ],
   "source": [
    "v = np.nonzero(train_labels == 1)[0]\n",
    "train_data[v].shape, v.shape\n",
    "ar = np.zeros((10, 784))\n",
    "ar[0,:] = np.mean(train_data[v], axis=0)\n",
    "np.cov(train_data[v].T).shape"
   ]
  },
  {
   "cell_type": "code",
   "execution_count": 17,
   "metadata": {
    "collapsed": true
   },
   "outputs": [],
   "source": [
    "def fit_generative_model(x, y, c):\n",
    "  k = 10  # labels 0,1,...,k-1\n",
    "  d = (x.shape)[1]  # number of features\n",
    "  mu = np.zeros((k,d))\n",
    "  sigma = np.zeros((k,d,d))\n",
    "  pi = np.zeros(k)\n",
    "  ###\n",
    "  ### Your code goes here\n",
    "  ###\n",
    "  for num in range(k):\n",
    "    idxs = np.nonzero(train_labels == num)[0]\n",
    "    vals = x[idxs]\n",
    "    mu[num,:] = np.mean(vals, axis=0)\n",
    "    sigma[num,:,:] = np.cov(vals.T) + c * np.eye(784)\n",
    "    pi[num] = len(idxs) / len(x)\n",
    "    \n",
    "  # Halt and return parameters\n",
    "  return mu, sigma, pi"
   ]
  },
  {
   "cell_type": "markdown",
   "metadata": {},
   "source": [
    "Okay, let's try out your function. In particular, we will use **displaychar** to visualize the means of the Gaussians for the first three digits. You can try the other digits on your own."
   ]
  },
  {
   "cell_type": "code",
   "execution_count": 18,
   "metadata": {},
   "outputs": [
    {
     "data": {
      "image/png": "[encoded data removed]",
      "text/plain": [
       "<Figure size 640x480 with 1 Axes>"
      ]
     },
     "metadata": {},
     "output_type": "display_data"
    },
    {
     "data": {
      "image/png": "[encoded data removed]",
      "text/plain": [
       "<Figure size 640x480 with 1 Axes>"
      ]
     },
     "metadata": {},
     "output_type": "display_data"
    },
    {
     "data": {
      "image/png": "[encoded data removed]",
      "text/plain": [
       "<Figure size 640x480 with 1 Axes>"
      ]
     },
     "metadata": {},
     "output_type": "display_data"
    }
   ],
   "source": [
    "c = 0.1\n",
    "mu, sigma, pi = fit_generative_model(train_data, train_labels, c = 0.1)\n",
    "displaychar(mu[0])\n",
    "displaychar(mu[1])\n",
    "displaychar(mu[2])"
   ]
  },
  {
   "cell_type": "markdown",
   "metadata": {},
   "source": [
    "## 3. Make predictions on test data"
   ]
  },
  {
   "cell_type": "markdown",
   "metadata": {},
   "source": [
    "Now let's see how many errors your model makes on the test set."
   ]
  },
  {
   "cell_type": "code",
   "execution_count": 23,
   "metadata": {},
   "outputs": [
    {
     "name": "stdout",
     "output_type": "stream",
     "text": [
      "c=32, Err:1018/10000, 0.1018\n",
      "c=64, Err:894/10000, 0.0894\n",
      "c=128, Err:766/10000, 0.0766\n",
      "c=256, Err:648/10000, 0.0648\n",
      "c=512, Err:559/10000, 0.0559\n",
      "c=1024, Err:486/10000, 0.0486\n",
      "c=2048, Err:435/10000, 0.0435\n",
      "c=4096, Err:431/10000, 0.0431\n",
      "c=8192, Err:492/10000, 0.0492\n",
      "c=16384, Err:598/10000, 0.0598\n",
      "c=32768, Err:801/10000, 0.0801\n",
      "c=65536, Err:1155/10000, 0.1155\n",
      "c=131072, Err:1634/10000, 0.1634\n"
     ]
    }
   ],
   "source": [
    "# Compute log Pr(label|image) for each [test image,label] pair.\n",
    "cs = [2**i for i in range(5, 18)]\n",
    "k = 10\n",
    "for c in cs:\n",
    "  mu, sigma, pi = fit_generative_model(train_data, train_labels, c = c)\n",
    "  score = np.zeros((len(test_labels),k))\n",
    "  for label in range(0,k):\n",
    "      rv = multivariate_normal(mean=mu[label], cov=sigma[label])\n",
    "      for i in range(0,len(test_labels)):\n",
    "        score[i,label] = np.log(pi[label]) + rv.logpdf(test_data[i,:])\n",
    "  predictions = np.argmax(score, axis=1)\n",
    "  # Finally, tally up score\n",
    "  errors = np.sum(predictions != test_labels)\n",
    "  print(f\"c={c}, Err:{str(errors)}/10000, {errors/10000}\")\n",
    "  # print(\"Your model makes \" + str(errors) + \" errors out of 10000\")"
   ]
  },
  {
   "cell_type": "code",
   "execution_count": 25,
   "metadata": {},
   "outputs": [
    {
     "name": "stdout",
     "output_type": "stream",
     "text": [
      "c=1024, Err:486/10000, 0.0486\n",
      "c=1401, Err:456/10000, 0.0456\n",
      "c=1778, Err:440/10000, 0.044\n",
      "c=2155, Err:436/10000, 0.0436\n",
      "c=2533, Err:434/10000, 0.0434\n",
      "c=2910, Err:431/10000, 0.0431\n",
      "c=3287, Err:437/10000, 0.0437\n",
      "c=3664, Err:435/10000, 0.0435\n",
      "c=4042, Err:431/10000, 0.0431\n",
      "c=4419, Err:436/10000, 0.0436\n",
      "c=4796, Err:438/10000, 0.0438\n",
      "c=5173, Err:439/10000, 0.0439\n",
      "c=5551, Err:438/10000, 0.0438\n",
      "c=5928, Err:445/10000, 0.0445\n",
      "c=6305, Err:455/10000, 0.0455\n",
      "c=6682, Err:463/10000, 0.0463\n",
      "c=7060, Err:474/10000, 0.0474\n",
      "c=7437, Err:475/10000, 0.0475\n",
      "c=7814, Err:481/10000, 0.0481\n",
      "c=8192, Err:492/10000, 0.0492\n"
     ]
    }
   ],
   "source": [
    "# Compute log Pr(label|image) for each [test image,label] pair.\n",
    "cs = np.linspace(1024, 8192, 20).astype(np.int32)\n",
    "k = 10\n",
    "for c in cs:\n",
    "  mu, sigma, pi = fit_generative_model(train_data, train_labels, c = c)\n",
    "  score = np.zeros((len(test_labels),k))\n",
    "  for label in range(0,k):\n",
    "      rv = multivariate_normal(mean=mu[label], cov=sigma[label])\n",
    "      for i in range(0,len(test_labels)):\n",
    "        score[i,label] = np.log(pi[label]) + rv.logpdf(test_data[i,:])\n",
    "  predictions = np.argmax(score, axis=1)\n",
    "  # Finally, tally up score\n",
    "  errors = np.sum(predictions != test_labels)\n",
    "  print(f\"c={c}, Err:{str(errors)}/10000, {errors/10000}\")\n",
    "  # print(\"Your model makes \" + str(errors) + \" errors out of 10000\")"
   ]
  },
  {
   "attachments": {},
   "cell_type": "markdown",
   "metadata": {},
   "source": [
    "Best Results:\n",
    "\n",
    "c=4096 = 431/10000, 0.0431"
   ]
  },
  {
   "cell_type": "markdown",
   "metadata": {},
   "source": [
    "## 4. Quick exercises"
   ]
  },
  {
   "cell_type": "markdown",
   "metadata": {},
   "source": [
    "*You will need to answer variants of these questions as part of this week's assignment*."
   ]
  },
  {
   "attachments": {},
   "cell_type": "markdown",
   "metadata": {},
   "source": [
    "<font color=\"magenta\">Exercise 1:</font> What happens if you do not regularize the covariance matrices?\n",
    "\n",
    "Answer: An error is thrown saying that the covariance matrix is not positive semidefinite"
   ]
  },
  {
   "cell_type": "code",
   "execution_count": 26,
   "metadata": {},
   "outputs": [
    {
     "ename": "LinAlgError",
     "evalue": "When `allow_singular is False`, the input matrix must be symmetric positive definite.",
     "output_type": "error",
     "traceback": [
      "\u001b[1;31m---------------------------------------------------------------------------\u001b[0m",
      "\u001b[1;31mLinAlgError\u001b[0m                               Traceback (most recent call last)",
      "Cell \u001b[1;32mIn[26], line 4\u001b[0m\n\u001b[0;32m      2\u001b[0m score \u001b[39m=\u001b[39m np\u001b[39m.\u001b[39mzeros((\u001b[39mlen\u001b[39m(test_labels),k))\n\u001b[0;32m      3\u001b[0m \u001b[39mfor\u001b[39;00m label \u001b[39min\u001b[39;00m \u001b[39mrange\u001b[39m(\u001b[39m0\u001b[39m,k):\n\u001b[1;32m----> 4\u001b[0m     rv \u001b[39m=\u001b[39m multivariate_normal(mean\u001b[39m=\u001b[39;49mmu[label], cov\u001b[39m=\u001b[39;49msigma[label])\n\u001b[0;32m      5\u001b[0m     \u001b[39mfor\u001b[39;00m i \u001b[39min\u001b[39;00m \u001b[39mrange\u001b[39m(\u001b[39m0\u001b[39m,\u001b[39mlen\u001b[39m(test_labels)):\n\u001b[0;32m      6\u001b[0m       score[i,label] \u001b[39m=\u001b[39m np\u001b[39m.\u001b[39mlog(pi[label]) \u001b[39m+\u001b[39m rv\u001b[39m.\u001b[39mlogpdf(test_data[i,:])\n",
      "File \u001b[1;32mc:\\Users\\James\\anaconda3\\envs\\mlenv\\lib\\site-packages\\scipy\\stats\\_multivariate.py:382\u001b[0m, in \u001b[0;36mmultivariate_normal_gen.__call__\u001b[1;34m(self, mean, cov, allow_singular, seed)\u001b[0m\n\u001b[0;32m    377\u001b[0m \u001b[39mdef\u001b[39;00m \u001b[39m__call__\u001b[39m(\u001b[39mself\u001b[39m, mean\u001b[39m=\u001b[39m\u001b[39mNone\u001b[39;00m, cov\u001b[39m=\u001b[39m\u001b[39m1\u001b[39m, allow_singular\u001b[39m=\u001b[39m\u001b[39mFalse\u001b[39;00m, seed\u001b[39m=\u001b[39m\u001b[39mNone\u001b[39;00m):\n\u001b[0;32m    378\u001b[0m     \u001b[39m\"\"\"Create a frozen multivariate normal distribution.\u001b[39;00m\n\u001b[0;32m    379\u001b[0m \n\u001b[0;32m    380\u001b[0m \u001b[39m    See `multivariate_normal_frozen` for more information.\u001b[39;00m\n\u001b[0;32m    381\u001b[0m \u001b[39m    \"\"\"\u001b[39;00m\n\u001b[1;32m--> 382\u001b[0m     \u001b[39mreturn\u001b[39;00m multivariate_normal_frozen(mean, cov,\n\u001b[0;32m    383\u001b[0m                                       allow_singular\u001b[39m=\u001b[39;49mallow_singular,\n\u001b[0;32m    384\u001b[0m                                       seed\u001b[39m=\u001b[39;49mseed)\n",
      "File \u001b[1;32mc:\\Users\\James\\anaconda3\\envs\\mlenv\\lib\\site-packages\\scipy\\stats\\_multivariate.py:759\u001b[0m, in \u001b[0;36mmultivariate_normal_frozen.__init__\u001b[1;34m(self, mean, cov, allow_singular, seed, maxpts, abseps, releps)\u001b[0m\n\u001b[0;32m    756\u001b[0m \u001b[39mself\u001b[39m\u001b[39m.\u001b[39m_dist \u001b[39m=\u001b[39m multivariate_normal_gen(seed)\n\u001b[0;32m    757\u001b[0m \u001b[39mself\u001b[39m\u001b[39m.\u001b[39mdim, \u001b[39mself\u001b[39m\u001b[39m.\u001b[39mmean, \u001b[39mself\u001b[39m\u001b[39m.\u001b[39mcov \u001b[39m=\u001b[39m \u001b[39mself\u001b[39m\u001b[39m.\u001b[39m_dist\u001b[39m.\u001b[39m_process_parameters(\n\u001b[0;32m    758\u001b[0m                                                     \u001b[39mNone\u001b[39;00m, mean, cov)\n\u001b[1;32m--> 759\u001b[0m \u001b[39mself\u001b[39m\u001b[39m.\u001b[39mcov_info \u001b[39m=\u001b[39m _PSD(\u001b[39mself\u001b[39;49m\u001b[39m.\u001b[39;49mcov, allow_singular\u001b[39m=\u001b[39;49mallow_singular)\n\u001b[0;32m    760\u001b[0m \u001b[39mif\u001b[39;00m \u001b[39mnot\u001b[39;00m maxpts:\n\u001b[0;32m    761\u001b[0m     maxpts \u001b[39m=\u001b[39m \u001b[39m1000000\u001b[39m \u001b[39m*\u001b[39m \u001b[39mself\u001b[39m\u001b[39m.\u001b[39mdim\n",
      "File \u001b[1;32mc:\\Users\\James\\anaconda3\\envs\\mlenv\\lib\\site-packages\\scipy\\stats\\_multivariate.py:167\u001b[0m, in \u001b[0;36m_PSD.__init__\u001b[1;34m(self, M, cond, rcond, lower, check_finite, allow_singular)\u001b[0m\n\u001b[0;32m    164\u001b[0m \u001b[39mif\u001b[39;00m \u001b[39mlen\u001b[39m(d) \u001b[39m<\u001b[39m \u001b[39mlen\u001b[39m(s) \u001b[39mand\u001b[39;00m \u001b[39mnot\u001b[39;00m allow_singular:\n\u001b[0;32m    165\u001b[0m     msg \u001b[39m=\u001b[39m (\u001b[39m\"\u001b[39m\u001b[39mWhen `allow_singular is False`, the input matrix must be \u001b[39m\u001b[39m\"\u001b[39m\n\u001b[0;32m    166\u001b[0m            \u001b[39m\"\u001b[39m\u001b[39msymmetric positive definite.\u001b[39m\u001b[39m\"\u001b[39m)\n\u001b[1;32m--> 167\u001b[0m     \u001b[39mraise\u001b[39;00m np\u001b[39m.\u001b[39mlinalg\u001b[39m.\u001b[39mLinAlgError(msg)\n\u001b[0;32m    168\u001b[0m s_pinv \u001b[39m=\u001b[39m _pinv_1d(s, eps)\n\u001b[0;32m    169\u001b[0m U \u001b[39m=\u001b[39m np\u001b[39m.\u001b[39mmultiply(u, np\u001b[39m.\u001b[39msqrt(s_pinv))\n",
      "\u001b[1;31mLinAlgError\u001b[0m: When `allow_singular is False`, the input matrix must be symmetric positive definite."
     ]
    }
   ],
   "source": [
    "mu, sigma, pi = fit_generative_model(train_data, train_labels, c = 0)\n",
    "score = np.zeros((len(test_labels),k))\n",
    "for label in range(0,k):\n",
    "    rv = multivariate_normal(mean=mu[label], cov=sigma[label])\n",
    "    for i in range(0,len(test_labels)):\n",
    "      score[i,label] = np.log(pi[label]) + rv.logpdf(test_data[i,:])\n",
    "predictions = np.argmax(score, axis=1)\n",
    "# Finally, tally up score\n",
    "errors = np.sum(predictions != test_labels)\n",
    "print(f\"c={c}, Err:{str(errors)}/10000, {errors/10000}\")"
   ]
  },
  {
   "attachments": {},
   "cell_type": "markdown",
   "metadata": {},
   "source": [
    "<font color=\"magenta\">Exercise 2:</font> What happens if you set the value of `c` too high, for instance to one billion? Do you understand why this happens?\n",
    "\n",
    "The error skyrockets to around 0.9. This means that the variances are all so insanely high and (relatively) equal that the classifier is just guessing at this point (10\\% to be right, 1 - 0.1 = 0.9 Error)"
   ]
  },
  {
   "cell_type": "code",
   "execution_count": 28,
   "metadata": {},
   "outputs": [
    {
     "name": "stdout",
     "output_type": "stream",
     "text": [
      "c=1000000000.0, Err:8865/10000, 0.8865\n"
     ]
    }
   ],
   "source": [
    "c = 1E9\n",
    "mu, sigma, pi = fit_generative_model(train_data, train_labels, c = 1E9)\n",
    "score = np.zeros((len(test_labels),k))\n",
    "for label in range(0,k):\n",
    "    rv = multivariate_normal(mean=mu[label], cov=sigma[label])\n",
    "    for i in range(0,len(test_labels)):\n",
    "      score[i,label] = np.log(pi[label]) + rv.logpdf(test_data[i,:])\n",
    "predictions = np.argmax(score, axis=1)\n",
    "# Finally, tally up score\n",
    "errors = np.sum(predictions != test_labels)\n",
    "print(f\"c={c}, Err:{str(errors)}/10000, {errors/10000}\")"
   ]
  },
  {
   "cell_type": "markdown",
   "metadata": {},
   "source": [
    "<font color=\"magenta\">Exercise 3:</font> What value of c did you end up using? How many errors did your model make on the training set?"
   ]
  },
  {
   "attachments": {},
   "cell_type": "markdown",
   "metadata": {},
   "source": [
    "Best Results:\n",
    "\n",
    "c=4096 = 431/10000, 0.0431"
   ]
  },
  {
   "cell_type": "markdown",
   "metadata": {},
   "source": [
    "<font color=\"magenta\">If you have the time</font>: We have talked about using the same regularization constant `c` for all ten classes. What about using a different value of `c` for each class? How would you go about choosing these? Can you get better performance in this way?"
   ]
  },
  {
   "attachments": {},
   "cell_type": "markdown",
   "metadata": {},
   "source": [
    "# Q15 part d"
   ]
  },
  {
   "cell_type": "code",
   "execution_count": 29,
   "metadata": {},
   "outputs": [],
   "source": [
    "c=4096\n",
    "mu, sigma, pi = fit_generative_model(train_data, train_labels, c = c)\n",
    "score = np.zeros((len(test_labels),k))\n",
    "for label in range(0,k):\n",
    "    rv = multivariate_normal(mean=mu[label], cov=sigma[label])\n",
    "    for i in range(0,len(test_labels)):\n",
    "      score[i,label] = np.log(pi[label]) + rv.logpdf(test_data[i,:])\n",
    "predictions = np.argmax(score, axis=1)"
   ]
  },
  {
   "cell_type": "code",
   "execution_count": 62,
   "metadata": {},
   "outputs": [
    {
     "name": "stdout",
     "output_type": "stream",
     "text": [
      "=== Test Sample 318, True label 2, Predicted Label 3\n",
      "\t[0], log(P(0|x)) =   -32.0909, P(0|x) = 0.000000\n",
      "\t[1], log(P(1|x)) =  -332.9169, P(1|x) = 0.000000\n",
      "\t[2], log(P(2|x)) =    -4.6146, P(2|x) = 0.009906\n",
      "\t[3], log(P(3|x)) =    -0.0100, P(3|x) = 0.990094\n",
      "\t[4], log(P(4|x)) =  -144.9549, P(4|x) = 0.000000\n",
      "\t[5], log(P(5|x)) =   -67.2531, P(5|x) = 0.000000\n",
      "\t[6], log(P(6|x)) =   -85.4842, P(6|x) = 0.000000\n",
      "\t[7], log(P(7|x)) =  -193.1079, P(7|x) = 0.000000\n",
      "\t[8], log(P(8|x)) =   -48.3429, P(8|x) = 0.000000\n",
      "\t[9], log(P(9|x)) =  -139.9801, P(9|x) = 0.000000\n"
     ]
    },
    {
     "data": {
      "image/png": "[encoded data removed]",
      "text/plain": [
       "<Figure size 640x480 with 1 Axes>"
      ]
     },
     "metadata": {},
     "output_type": "display_data"
    },
    {
     "name": "stdout",
     "output_type": "stream",
     "text": [
      "=== END Test Sample 318\n",
      "=== Test Sample 4075, True label 8, Predicted Label 3\n",
      "\t[0], log(P(0|x)) =    -7.1375, P(0|x) = 0.000795\n",
      "\t[1], log(P(1|x)) =  -210.7206, P(1|x) = 0.000000\n",
      "\t[2], log(P(2|x)) =   -55.6330, P(2|x) = 0.000000\n",
      "\t[3], log(P(3|x)) =    -0.0015, P(3|x) = 0.998463\n",
      "\t[4], log(P(4|x)) =  -122.1122, P(4|x) = 0.000000\n",
      "\t[5], log(P(5|x)) =    -7.2054, P(5|x) = 0.000743\n",
      "\t[6], log(P(6|x)) =   -20.0997, P(6|x) = 0.000000\n",
      "\t[7], log(P(7|x)) =  -145.3032, P(7|x) = 0.000000\n",
      "\t[8], log(P(8|x)) =   -29.0186, P(8|x) = 0.000000\n",
      "\t[9], log(P(9|x)) =  -117.2421, P(9|x) = 0.000000\n"
     ]
    },
    {
     "data": {
      "image/png": "[encoded data removed]",
      "text/plain": [
       "<Figure size 640x480 with 1 Axes>"
      ]
     },
     "metadata": {},
     "output_type": "display_data"
    },
    {
     "name": "stdout",
     "output_type": "stream",
     "text": [
      "=== END Test Sample 4075\n",
      "=== Test Sample 5634, True label 2, Predicted Label 3\n",
      "\t[0], log(P(0|x)) =   -21.6116, P(0|x) = 0.000000\n",
      "\t[1], log(P(1|x)) =  -159.0485, P(1|x) = 0.000000\n",
      "\t[2], log(P(2|x)) =    -5.5562, P(2|x) = 0.003863\n",
      "\t[3], log(P(3|x)) =    -0.0039, P(3|x) = 0.996137\n",
      "\t[4], log(P(4|x)) =  -106.6081, P(4|x) = 0.000000\n",
      "\t[5], log(P(5|x)) =   -36.3990, P(5|x) = 0.000000\n",
      "\t[6], log(P(6|x)) =   -57.3229, P(6|x) = 0.000000\n",
      "\t[7], log(P(7|x)) =  -164.6690, P(7|x) = 0.000000\n",
      "\t[8], log(P(8|x)) =   -22.7409, P(8|x) = 0.000000\n",
      "\t[9], log(P(9|x)) =   -98.3070, P(9|x) = 0.000000\n"
     ]
    },
    {
     "data": {
      "image/png": "[encoded data removed]",
      "text/plain": [
       "<Figure size 640x480 with 1 Axes>"
      ]
     },
     "metadata": {},
     "output_type": "display_data"
    },
    {
     "name": "stdout",
     "output_type": "stream",
     "text": [
      "=== END Test Sample 5634\n",
      "=== Test Sample 3448, True label 3, Predicted Label 0\n",
      "\t[0], log(P(0|x)) =    -0.0565, P(0|x) = 0.945054\n",
      "\t[1], log(P(1|x)) =   -98.0978, P(1|x) = 0.000000\n",
      "\t[2], log(P(2|x)) =   -14.1049, P(2|x) = 0.000001\n",
      "\t[3], log(P(3|x)) =    -2.9015, P(3|x) = 0.054941\n",
      "\t[4], log(P(4|x)) =   -77.1284, P(4|x) = 0.000000\n",
      "\t[5], log(P(5|x)) =   -23.9923, P(5|x) = 0.000000\n",
      "\t[6], log(P(6|x)) =   -12.5495, P(6|x) = 0.000004\n",
      "\t[7], log(P(7|x)) =  -101.9319, P(7|x) = 0.000000\n",
      "\t[8], log(P(8|x)) =   -54.2855, P(8|x) = 0.000000\n",
      "\t[9], log(P(9|x)) =   -84.3225, P(9|x) = 0.000000\n"
     ]
    },
    {
     "data": {
      "image/png": "[encoded data removed]",
      "text/plain": [
       "<Figure size 640x480 with 1 Axes>"
      ]
     },
     "metadata": {},
     "output_type": "display_data"
    },
    {
     "name": "stdout",
     "output_type": "stream",
     "text": [
      "=== END Test Sample 3448\n",
      "=== Test Sample 3751, True label 7, Predicted Label 1\n",
      "\t[0], log(P(0|x)) =   -59.4037, P(0|x) = 0.000000\n",
      "\t[1], log(P(1|x)) =    -0.0028, P(1|x) = 0.997248\n",
      "\t[2], log(P(2|x)) =   -16.9286, P(2|x) = 0.000000\n",
      "\t[3], log(P(3|x)) =   -34.4119, P(3|x) = 0.000000\n",
      "\t[4], log(P(4|x)) =    -7.1000, P(4|x) = 0.000825\n",
      "\t[5], log(P(5|x)) =   -34.1022, P(5|x) = 0.000000\n",
      "\t[6], log(P(6|x)) =   -32.8499, P(6|x) = 0.000000\n",
      "\t[7], log(P(7|x)) =    -6.2519, P(7|x) = 0.001927\n",
      "\t[8], log(P(8|x)) =   -21.1704, P(8|x) = 0.000000\n",
      "\t[9], log(P(9|x)) =   -22.1063, P(9|x) = 0.000000\n"
     ]
    },
    {
     "data": {
      "image/png": "[encoded data removed]",
      "text/plain": [
       "<Figure size 640x480 with 1 Axes>"
      ]
     },
     "metadata": {},
     "output_type": "display_data"
    },
    {
     "name": "stdout",
     "output_type": "stream",
     "text": [
      "=== END Test Sample 3751\n"
     ]
    }
   ],
   "source": [
    "idx_wrong = np.nonzero(predictions != test_labels)[0]\n",
    "np.random.seed(123)\n",
    "samp = np.random.choice(idx_wrong, 5, replace=False)\n",
    "\n",
    "for idx in samp:\n",
    "  log_prob = np.log(pi[label]) + rv.logpdf(test_data[i,:])\n",
    "  print(f\"=== Test Sample {idx}, True label {test_labels[idx]}, Predicted Label {predictions[idx]}\")\n",
    "  score_row = score[idx]\n",
    "  log_px = -np.inf\n",
    "  for s in score_row:\n",
    "    log_px = np.logaddexp(log_px, s)\n",
    "  for i in range(10):\n",
    "    print(f\"\\t[{i}], log(P({i}|x)) = {score_row[i] - log_px:10.4f}, P({i}|x) = {np.exp(score_row[i] - log_px):0.6f}\")\n",
    "\n",
    "  displaychar(test_data[idx])\n",
    "  print(f\"=== END Test Sample {idx}\")"
   ]
  }
 ],
 "metadata": {
  "kernelspec": {
   "display_name": "mlenv",
   "language": "python",
   "name": "python3"
  },
  "language_info": {
   "codemirror_mode": {
    "name": "ipython",
    "version": 3
   },
   "file_extension": ".py",
   "mimetype": "text/x-python",
   "name": "python",
   "nbconvert_exporter": "python",
   "pygments_lexer": "ipython3",
   "version": "3.9.0"
  },
  "toc": {
   "colors": {
    "hover_highlight": "#DAA520",
    "navigate_num": "#000000",
    "navigate_text": "#333333",
    "running_highlight": "#FF0000",
    "selected_highlight": "#FFD700",
    "sidebar_border": "#EEEEEE",
    "wrapper_background": "#FFFFFF"
   },
   "moveMenuLeft": true,
   "nav_menu": {
    "height": "12px",
    "width": "252px"
   },
   "navigate_menu": true,
   "number_sections": false,
   "sideBar": true,
   "threshold": 4,
   "toc_cell": false,
   "toc_section_display": "block",
   "toc_window_display": false,
   "widenNotebook": false
  },
  "vscode": {
   "interpreter": {
    "hash": "ecabccf6f348d9314d60527b6ca15ab5187889d68a9ff19ddb5072320bd253af"
   }
  }
 },
 "nbformat": 4,
 "nbformat_minor": 1
}
