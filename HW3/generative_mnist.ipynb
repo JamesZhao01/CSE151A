{
 "cells": [
  {
   "cell_type": "markdown",
   "metadata": {},
   "source": [
    "# Gaussian generative models for handwritten digit classification"
   ]
  },
  {
   "cell_type": "markdown",
   "metadata": {},
   "source": [
    "Recall that the 1-NN classifier yielded a 3.09% test error rate on the MNIST data set of handwritten digits. We will now see that a Gaussian generative model does almost as well, while being significantly faster and more compact."
   ]
  },
  {
   "cell_type": "markdown",
   "metadata": {},
   "source": [
    "## 1. Set up notebook and load in data"
   ]
  },
  {
   "cell_type": "markdown",
   "metadata": {},
   "source": [
    "As usual, we start by importing the required packages and data. For this notebook we will be using the *entire* `MNIST` dataset. The code below defines some helper functions that will load `MNIST` onto your computer."
   ]
  },
  {
   "cell_type": "code",
   "execution_count": 1,
   "metadata": {
    "collapsed": true
   },
   "outputs": [],
   "source": [
    "%matplotlib inline\n",
    "import matplotlib.pyplot as plt \n",
    "import gzip, os, sys\n",
    "import numpy as np\n",
    "from scipy.stats import multivariate_normal\n",
    "\n",
    "if sys.version_info[0] == 2:\n",
    "    from urllib import urlretrieve\n",
    "else:\n",
    "    from urllib.request import urlretrieve"
   ]
  },
  {
   "cell_type": "code",
   "execution_count": 2,
   "metadata": {
    "collapsed": true
   },
   "outputs": [],
   "source": [
    "# Function that downloads a specified MNIST data file from Yann Le Cun's website\n",
    "def download(filename, source='http://yann.lecun.com/exdb/mnist/'):\n",
    "    print(\"Downloading %s\" % filename)\n",
    "    urlretrieve(source + filename, filename)\n",
    "\n",
    "# Invokes download() if necessary, then reads in images\n",
    "def load_mnist_images(filename):\n",
    "    if not os.path.exists(filename):\n",
    "        download(filename)\n",
    "    with gzip.open(filename, 'rb') as f:\n",
    "        data = np.frombuffer(f.read(), np.uint8, offset=16)\n",
    "    data = data.reshape(-1,784)\n",
    "    return data\n",
    "\n",
    "def load_mnist_labels(filename):\n",
    "    if not os.path.exists(filename):\n",
    "        download(filename)\n",
    "    with gzip.open(filename, 'rb') as f:\n",
    "        data = np.frombuffer(f.read(), np.uint8, offset=8)\n",
    "    return data"
   ]
  },
  {
   "cell_type": "markdown",
   "metadata": {},
   "source": [
    "Now load in the training set and test set"
   ]
  },
  {
   "cell_type": "code",
   "execution_count": 3,
   "metadata": {
    "collapsed": true
   },
   "outputs": [
    {
     "name": "stdout",
     "output_type": "stream",
     "text": [
      "Downloading train-images-idx3-ubyte.gz\n",
      "Downloading train-labels-idx1-ubyte.gz\n",
      "Downloading t10k-images-idx3-ubyte.gz\n",
      "Downloading t10k-labels-idx1-ubyte.gz\n"
     ]
    }
   ],
   "source": [
    "## Load the training set\n",
    "train_data = load_mnist_images('train-images-idx3-ubyte.gz')\n",
    "train_labels = load_mnist_labels('train-labels-idx1-ubyte.gz')\n",
    "\n",
    "## Load the testing set\n",
    "test_data = load_mnist_images('t10k-images-idx3-ubyte.gz')\n",
    "test_labels = load_mnist_labels('t10k-labels-idx1-ubyte.gz')"
   ]
  },
  {
   "cell_type": "code",
   "execution_count": 10,
   "metadata": {},
   "outputs": [
    {
     "name": "stdout",
     "output_type": "stream",
     "text": [
      "(50000, 784) (50000,) (10000, 784) (10000,)\n"
     ]
    }
   ],
   "source": [
    "# choose 50000 indexes\n",
    "np.random.seed(123)\n",
    "idx_tr = np.random.choice(60000, 50000, replace=False)\n",
    "mask_tr = np.zeros(60000, dtype=bool)\n",
    "# generate a bit mask for training data\n",
    "mask_tr[idx_tr] = 1\n",
    "# generate inverse bitmask for validation data\n",
    "mask_va = ~mask_tr\n",
    "\n",
    "tr_X, tr_y = train_data[mask_tr], train_labels[mask_tr]\n",
    "va_X, va_y = train_data[mask_va], train_labels[mask_va]\n",
    "\n",
    "print(tr_X.shape, tr_y.shape, va_X.shape, va_y.shape)"
   ]
  },
  {
   "cell_type": "markdown",
   "metadata": {},
   "source": [
    "The function **displaychar** shows a single MNIST digit. To do this, it first has to reshape the 784-dimensional vector into a 28x28 image."
   ]
  },
  {
   "cell_type": "code",
   "execution_count": 11,
   "metadata": {
    "collapsed": true
   },
   "outputs": [],
   "source": [
    "def displaychar(image):\n",
    "  plt.imshow(np.reshape(image, (28,28)), cmap=plt.cm.gray)\n",
    "  plt.axis('off')\n",
    "  plt.show()"
   ]
  },
  {
   "cell_type": "code",
   "execution_count": 13,
   "metadata": {},
   "outputs": [
    {
     "data": {
      "image/png": "[encoded data removed]",
      "text/plain": [
       "<Figure size 640x480 with 1 Axes>"
      ]
     },
     "metadata": {},
     "output_type": "display_data"
    },
    {
     "data": {
      "image/png": "[encoded data removed]",
      "text/plain": [
       "<Figure size 640x480 with 1 Axes>"
      ]
     },
     "metadata": {},
     "output_type": "display_data"
    }
   ],
   "source": [
    "displaychar(tr_X[0])\n",
    "displaychar(va_X[1])"
   ]
  },
  {
   "cell_type": "markdown",
   "metadata": {},
   "source": [
    "## 2. Fit a Gaussian generative model to the training data"
   ]
  },
  {
   "cell_type": "markdown",
   "metadata": {},
   "source": [
    "**<font color=\"magenta\">For you to do:</font>** Define a function, **fit_generative_model**, that takes as input a training set (data `x` and labels `y`) and fits a Gaussian generative model to it. It should return the parameters of this generative model; for each label `j = 0,1,...,9`, we have:\n",
    "* `pi[j]`: the frequency of that label\n",
    "* `mu[j]`: the 784-dimensional mean vector\n",
    "* `sigma[j]`: the 784x784 covariance matrix\n",
    "\n",
    "This means that `pi` is 10x1, `mu` is 10x784, and `sigma` is 10x784x784.\n",
    "\n",
    "We have already seen how to fit a Gaussian generative model in the Winery example, but now there is an added ingredient. <font color=\"magenta\">The empirical covariances are very likely to be singular (or close to singular), which means that we won't be able to do calculations with them</font>. Thus it is important to **regularize** these matrices. The standard way of doing this is to add `cI` to them, where `c` is some constant and `I` is the 784-dimensional identity matrix. (To put it another way, we compute the empirical covariances and then increase their diagonal entries by some constant `c`.)\n",
    "\n",
    "This modification is guaranteed to yield covariance matrices that are non-singular, for any `c > 0`, no matter how small. But this doesn't mean that we should make `c` as small as possible. Indeed, `c` is now a parameter, and by setting it appropriately, we can improve the performance of the model. We will study **regularization** in greater detail over the coming weeks.\n",
    "\n",
    "Your routine needs to choose a good setting of `c`. Crucially, this needs to be done using the training set alone. So you might try setting aside part of the training set as a validation set, or using some kind of cross-validation."
   ]
  },
  {
   "cell_type": "code",
   "execution_count": 14,
   "metadata": {
    "collapsed": true
   },
   "outputs": [],
   "source": [
    "def fit_generative_model(x, y, c):\n",
    "  k = 10  # labels 0,1,...,k-1\n",
    "  d = (x.shape)[1]  # number of features\n",
    "  mu = np.zeros((k,d))\n",
    "  sigma = np.zeros((k,d,d))\n",
    "  pi = np.zeros(k)\n",
    "  ###\n",
    "  ### Your code goes here\n",
    "  ###\n",
    "  for num in range(k):\n",
    "    idxs = np.nonzero(y == num)[0]\n",
    "    vals = x[idxs]\n",
    "    mu[num,:] = np.mean(vals, axis=0)\n",
    "    sigma[num,:,:] = np.cov(vals.T) + c * np.eye(784)\n",
    "    pi[num] = len(idxs) / len(x)\n",
    "    \n",
    "  # Halt and return parameters\n",
    "  return mu, sigma, pi"
   ]
  },
  {
   "cell_type": "markdown",
   "metadata": {},
   "source": [
    "Okay, let's try out your function. In particular, we will use **displaychar** to visualize the means of the Gaussians for the first three digits. You can try the other digits on your own."
   ]
  },
  {
   "cell_type": "code",
   "execution_count": 18,
   "metadata": {},
   "outputs": [
    {
     "name": "stdout",
     "output_type": "stream",
     "text": [
      "c=0.25, Err:1810/10000, 0.181\n",
      "c=0.5, Err:1732/10000, 0.1732\n",
      "c=1, Err:1657/10000, 0.1657\n",
      "c=2, Err:1571/10000, 0.1571\n",
      "c=4, Err:1471/10000, 0.1471\n",
      "c=8, Err:1365/10000, 0.1365\n",
      "c=16, Err:1235/10000, 0.1235\n",
      "c=32, Err:1110/10000, 0.111\n",
      "c=64, Err:963/10000, 0.0963\n",
      "c=128, Err:838/10000, 0.0838\n",
      "c=256, Err:715/10000, 0.0715\n",
      "c=512, Err:619/10000, 0.0619\n",
      "c=1024, Err:551/10000, 0.0551\n",
      "c=2048, Err:494/10000, 0.0494\n",
      "c=4096, Err:480/10000, 0.048\n",
      "c=8192, Err:524/10000, 0.0524\n",
      "c=16384, Err:651/10000, 0.0651\n",
      "c=32768, Err:871/10000, 0.0871\n",
      "c=65536, Err:1228/10000, 0.1228\n",
      "c=131072, Err:1751/10000, 0.1751\n"
     ]
    }
   ],
   "source": [
    "# Fit `c` parameter\n",
    "cs = [2**i for i in range(-2, 18)]\n",
    "def run_vals(cs):\n",
    "  # This is basically copied from the starter code, changing around the datasets\n",
    "  k = 10\n",
    "  for c in cs:\n",
    "    mu, sigma, pi = fit_generative_model(tr_X, tr_y, c = c)\n",
    "    score = np.zeros((len(va_y),k))\n",
    "    for label in range(0,k):\n",
    "        rv = multivariate_normal(mean=mu[label], cov=sigma[label])\n",
    "        for i in range(0,len(va_y)):\n",
    "          score[i,label] = np.log(pi[label]) + rv.logpdf(va_X[i,:])\n",
    "    predictions = np.argmax(score, axis=1)\n",
    "    # Finally, tally up score\n",
    "    errors = np.sum(predictions != va_y)\n",
    "    print(f\"c={c}, Err:{str(errors)}/10000, {errors/10000}\")\n",
    "# Get Performance metrics on a ra\n",
    "run_vals(cs)"
   ]
  },
  {
   "cell_type": "code",
   "execution_count": 19,
   "metadata": {},
   "outputs": [
    {
     "name": "stdout",
     "output_type": "stream",
     "text": [
      "c=1024, Err:551/10000, 0.0551\n",
      "c=1401, Err:520/10000, 0.052\n",
      "c=1778, Err:501/10000, 0.0501\n",
      "c=2155, Err:492/10000, 0.0492\n",
      "c=2533, Err:484/10000, 0.0484\n",
      "c=2910, Err:485/10000, 0.0485\n",
      "c=3287, Err:478/10000, 0.0478\n",
      "c=3664, Err:472/10000, 0.0472\n",
      "c=4042, Err:480/10000, 0.048\n",
      "c=4419, Err:476/10000, 0.0476\n",
      "c=4796, Err:477/10000, 0.0477\n",
      "c=5173, Err:481/10000, 0.0481\n",
      "c=5551, Err:488/10000, 0.0488\n",
      "c=5928, Err:496/10000, 0.0496\n",
      "c=6305, Err:495/10000, 0.0495\n",
      "c=6682, Err:501/10000, 0.0501\n",
      "c=7060, Err:510/10000, 0.051\n",
      "c=7437, Err:519/10000, 0.0519\n",
      "c=7814, Err:518/10000, 0.0518\n",
      "c=8192, Err:524/10000, 0.0524\n"
     ]
    }
   ],
   "source": [
    "cs = np.linspace(1024, 8192, 20).astype(np.int32)\n",
    "run_vals(cs)"
   ]
  },
  {
   "cell_type": "code",
   "execution_count": 16,
   "metadata": {},
   "outputs": [
    {
     "data": {
      "image/png": "[encoded data removed]",
      "text/plain": [
       "<Figure size 640x480 with 1 Axes>"
      ]
     },
     "metadata": {},
     "output_type": "display_data"
    },
    {
     "data": {
      "image/png": "[encoded data removed]",
      "text/plain": [
       "<Figure size 640x480 with 1 Axes>"
      ]
     },
     "metadata": {},
     "output_type": "display_data"
    },
    {
     "data": {
      "image/png": "[encoded data removed]",
      "text/plain": [
       "<Figure size 640x480 with 1 Axes>"
      ]
     },
     "metadata": {},
     "output_type": "display_data"
    }
   ],
   "source": [
    "c = 0.1\n",
    "mu, sigma, pi = fit_generative_model(tr_X, tr_y, c = 0.1)\n",
    "displaychar(mu[0])\n",
    "displaychar(mu[1])\n",
    "displaychar(mu[2])"
   ]
  },
  {
   "cell_type": "markdown",
   "metadata": {},
   "source": [
    "## 3. Make predictions on test data"
   ]
  },
  {
   "cell_type": "markdown",
   "metadata": {},
   "source": [
    "Now let's see how many errors your model makes on the test set."
   ]
  },
  {
   "cell_type": "code",
   "execution_count": 20,
   "metadata": {},
   "outputs": [
    {
     "name": "stdout",
     "output_type": "stream",
     "text": [
      "c=3664, Err:438/10000, 0.0438\n"
     ]
    }
   ],
   "source": [
    "# Compute log Pr(label|image) for each [test image,label] pair.\n",
    "c = 3664\n",
    "k = 10\n",
    "\n",
    "mu, sigma, pi = fit_generative_model(tr_X, tr_y, c = c)\n",
    "score = np.zeros((len(test_labels),k))\n",
    "for label in range(0,k):\n",
    "    rv = multivariate_normal(mean=mu[label], cov=sigma[label])\n",
    "    for i in range(0,len(test_labels)):\n",
    "      score[i,label] = np.log(pi[label]) + rv.logpdf(test_data[i,:])\n",
    "predictions = np.argmax(score, axis=1)\n",
    "# Finally, tally up score\n",
    "errors = np.sum(predictions != test_labels)\n",
    "print(f\"c={c}, Err:{str(errors)}/10000, {errors/10000}\")\n",
    "# print(\"Your model makes \" + str(errors) + \" errors out of 10000\")"
   ]
  },
  {
   "attachments": {},
   "cell_type": "markdown",
   "metadata": {},
   "source": [
    "Best Results:\n",
    "\n",
    "c=3664 = 438/10000, 0.0438 Error Rate"
   ]
  },
  {
   "cell_type": "markdown",
   "metadata": {},
   "source": [
    "## 4. Quick exercises"
   ]
  },
  {
   "cell_type": "markdown",
   "metadata": {},
   "source": [
    "*You will need to answer variants of these questions as part of this week's assignment*."
   ]
  },
  {
   "attachments": {},
   "cell_type": "markdown",
   "metadata": {},
   "source": [
    "<font color=\"magenta\">Exercise 1:</font> What happens if you do not regularize the covariance matrices?\n",
    "\n",
    "Answer: An error is thrown saying that the covariance matrix is not positive semidefinite"
   ]
  },
  {
   "cell_type": "code",
   "execution_count": 21,
   "metadata": {},
   "outputs": [
    {
     "ename": "LinAlgError",
     "evalue": "When `allow_singular is False`, the input matrix must be symmetric positive definite.",
     "output_type": "error",
     "traceback": [
      "\u001b[1;31m---------------------------------------------------------------------------\u001b[0m",
      "\u001b[1;31mLinAlgError\u001b[0m                               Traceback (most recent call last)",
      "Cell \u001b[1;32mIn[21], line 4\u001b[0m\n\u001b[0;32m      2\u001b[0m score \u001b[39m=\u001b[39m np\u001b[39m.\u001b[39mzeros((\u001b[39mlen\u001b[39m(test_labels),k))\n\u001b[0;32m      3\u001b[0m \u001b[39mfor\u001b[39;00m label \u001b[39min\u001b[39;00m \u001b[39mrange\u001b[39m(\u001b[39m0\u001b[39m,k):\n\u001b[1;32m----> 4\u001b[0m     rv \u001b[39m=\u001b[39m multivariate_normal(mean\u001b[39m=\u001b[39;49mmu[label], cov\u001b[39m=\u001b[39;49msigma[label])\n\u001b[0;32m      5\u001b[0m     \u001b[39mfor\u001b[39;00m i \u001b[39min\u001b[39;00m \u001b[39mrange\u001b[39m(\u001b[39m0\u001b[39m,\u001b[39mlen\u001b[39m(test_labels)):\n\u001b[0;32m      6\u001b[0m       score[i,label] \u001b[39m=\u001b[39m np\u001b[39m.\u001b[39mlog(pi[label]) \u001b[39m+\u001b[39m rv\u001b[39m.\u001b[39mlogpdf(test_data[i,:])\n",
      "File \u001b[1;32mc:\\Users\\James\\anaconda3\\envs\\mlenv\\lib\\site-packages\\scipy\\stats\\_multivariate.py:393\u001b[0m, in \u001b[0;36mmultivariate_normal_gen.__call__\u001b[1;34m(self, mean, cov, allow_singular, seed)\u001b[0m\n\u001b[0;32m    388\u001b[0m \u001b[39mdef\u001b[39;00m \u001b[39m__call__\u001b[39m(\u001b[39mself\u001b[39m, mean\u001b[39m=\u001b[39m\u001b[39mNone\u001b[39;00m, cov\u001b[39m=\u001b[39m\u001b[39m1\u001b[39m, allow_singular\u001b[39m=\u001b[39m\u001b[39mFalse\u001b[39;00m, seed\u001b[39m=\u001b[39m\u001b[39mNone\u001b[39;00m):\n\u001b[0;32m    389\u001b[0m \u001b[39m    \u001b[39m\u001b[39m\"\"\"Create a frozen multivariate normal distribution.\u001b[39;00m\n\u001b[0;32m    390\u001b[0m \n\u001b[0;32m    391\u001b[0m \u001b[39m    See `multivariate_normal_frozen` for more information.\u001b[39;00m\n\u001b[0;32m    392\u001b[0m \u001b[39m    \"\"\"\u001b[39;00m\n\u001b[1;32m--> 393\u001b[0m     \u001b[39mreturn\u001b[39;00m multivariate_normal_frozen(mean, cov,\n\u001b[0;32m    394\u001b[0m                                       allow_singular\u001b[39m=\u001b[39;49mallow_singular,\n\u001b[0;32m    395\u001b[0m                                       seed\u001b[39m=\u001b[39;49mseed)\n",
      "File \u001b[1;32mc:\\Users\\James\\anaconda3\\envs\\mlenv\\lib\\site-packages\\scipy\\stats\\_multivariate.py:834\u001b[0m, in \u001b[0;36mmultivariate_normal_frozen.__init__\u001b[1;34m(self, mean, cov, allow_singular, seed, maxpts, abseps, releps)\u001b[0m\n\u001b[0;32m    791\u001b[0m \u001b[39m\u001b[39m\u001b[39m\"\"\"Create a frozen multivariate normal distribution.\u001b[39;00m\n\u001b[0;32m    792\u001b[0m \n\u001b[0;32m    793\u001b[0m \u001b[39mParameters\u001b[39;00m\n\u001b[1;32m   (...)\u001b[0m\n\u001b[0;32m    830\u001b[0m \n\u001b[0;32m    831\u001b[0m \u001b[39m\"\"\"\u001b[39;00m\n\u001b[0;32m    832\u001b[0m \u001b[39mself\u001b[39m\u001b[39m.\u001b[39m_dist \u001b[39m=\u001b[39m multivariate_normal_gen(seed)\n\u001b[0;32m    833\u001b[0m \u001b[39mself\u001b[39m\u001b[39m.\u001b[39mdim, \u001b[39mself\u001b[39m\u001b[39m.\u001b[39mmean, \u001b[39mself\u001b[39m\u001b[39m.\u001b[39mcov_object \u001b[39m=\u001b[39m (\n\u001b[1;32m--> 834\u001b[0m     \u001b[39mself\u001b[39;49m\u001b[39m.\u001b[39;49m_dist\u001b[39m.\u001b[39;49m_process_parameters(mean, cov, allow_singular))\n\u001b[0;32m    835\u001b[0m \u001b[39mself\u001b[39m\u001b[39m.\u001b[39mallow_singular \u001b[39m=\u001b[39m allow_singular \u001b[39mor\u001b[39;00m \u001b[39mself\u001b[39m\u001b[39m.\u001b[39mcov_object\u001b[39m.\u001b[39m_allow_singular\n\u001b[0;32m    836\u001b[0m \u001b[39mif\u001b[39;00m \u001b[39mnot\u001b[39;00m maxpts:\n",
      "File \u001b[1;32mc:\\Users\\James\\anaconda3\\envs\\mlenv\\lib\\site-packages\\scipy\\stats\\_multivariate.py:417\u001b[0m, in \u001b[0;36mmultivariate_normal_gen._process_parameters\u001b[1;34m(self, mean, cov, allow_singular)\u001b[0m\n\u001b[0;32m    410\u001b[0m dim, mean, cov \u001b[39m=\u001b[39m \u001b[39mself\u001b[39m\u001b[39m.\u001b[39m_process_parameters_psd(\u001b[39mNone\u001b[39;00m, mean, cov)\n\u001b[0;32m    411\u001b[0m \u001b[39m# After input validation, some methods then processed the arrays\u001b[39;00m\n\u001b[0;32m    412\u001b[0m \u001b[39m# with a `_PSD` object and used that to perform computation.\u001b[39;00m\n\u001b[0;32m    413\u001b[0m \u001b[39m# To avoid branching statements in each method depending on whether\u001b[39;00m\n\u001b[0;32m    414\u001b[0m \u001b[39m# `cov` is an array or `Covariance` object, we always process the\u001b[39;00m\n\u001b[0;32m    415\u001b[0m \u001b[39m# array with `_PSD`, and then use wrapper that satisfies the\u001b[39;00m\n\u001b[0;32m    416\u001b[0m \u001b[39m# `Covariance` interface, `CovViaPSD`.\u001b[39;00m\n\u001b[1;32m--> 417\u001b[0m psd \u001b[39m=\u001b[39m _PSD(cov, allow_singular\u001b[39m=\u001b[39;49mallow_singular)\n\u001b[0;32m    418\u001b[0m cov_object \u001b[39m=\u001b[39m _covariance\u001b[39m.\u001b[39mCovViaPSD(psd)\n\u001b[0;32m    419\u001b[0m \u001b[39mreturn\u001b[39;00m dim, mean, cov_object\n",
      "File \u001b[1;32mc:\\Users\\James\\anaconda3\\envs\\mlenv\\lib\\site-packages\\scipy\\stats\\_multivariate.py:172\u001b[0m, in \u001b[0;36m_PSD.__init__\u001b[1;34m(self, M, cond, rcond, lower, check_finite, allow_singular)\u001b[0m\n\u001b[0;32m    169\u001b[0m \u001b[39mif\u001b[39;00m \u001b[39mlen\u001b[39m(d) \u001b[39m<\u001b[39m \u001b[39mlen\u001b[39m(s) \u001b[39mand\u001b[39;00m \u001b[39mnot\u001b[39;00m allow_singular:\n\u001b[0;32m    170\u001b[0m     msg \u001b[39m=\u001b[39m (\u001b[39m\"\u001b[39m\u001b[39mWhen `allow_singular is False`, the input matrix must be \u001b[39m\u001b[39m\"\u001b[39m\n\u001b[0;32m    171\u001b[0m            \u001b[39m\"\u001b[39m\u001b[39msymmetric positive definite.\u001b[39m\u001b[39m\"\u001b[39m)\n\u001b[1;32m--> 172\u001b[0m     \u001b[39mraise\u001b[39;00m np\u001b[39m.\u001b[39mlinalg\u001b[39m.\u001b[39mLinAlgError(msg)\n\u001b[0;32m    173\u001b[0m s_pinv \u001b[39m=\u001b[39m _pinv_1d(s, eps)\n\u001b[0;32m    174\u001b[0m U \u001b[39m=\u001b[39m np\u001b[39m.\u001b[39mmultiply(u, np\u001b[39m.\u001b[39msqrt(s_pinv))\n",
      "\u001b[1;31mLinAlgError\u001b[0m: When `allow_singular is False`, the input matrix must be symmetric positive definite."
     ]
    }
   ],
   "source": [
    "mu, sigma, pi = fit_generative_model(train_data, train_labels, c = 0)\n",
    "score = np.zeros((len(test_labels),k))\n",
    "for label in range(0,k):\n",
    "    rv = multivariate_normal(mean=mu[label], cov=sigma[label])\n",
    "    for i in range(0,len(test_labels)):\n",
    "      score[i,label] = np.log(pi[label]) + rv.logpdf(test_data[i,:])\n",
    "predictions = np.argmax(score, axis=1)\n",
    "# Finally, tally up score\n",
    "errors = np.sum(predictions != test_labels)\n",
    "print(f\"c={c}, Err:{str(errors)}/10000, {errors/10000}\")"
   ]
  },
  {
   "attachments": {},
   "cell_type": "markdown",
   "metadata": {},
   "source": [
    "<font color=\"magenta\">Exercise 2:</font> What happens if you set the value of `c` too high, for instance to one billion? Do you understand why this happens?\n",
    "\n",
    "The error skyrockets to around 0.9. This means that the variances are all so insanely high and (relatively) equal that the classifier is just guessing at this point (10\\% to be right, 1 - 0.1 = 0.9 Error)"
   ]
  },
  {
   "cell_type": "code",
   "execution_count": 22,
   "metadata": {},
   "outputs": [
    {
     "name": "stdout",
     "output_type": "stream",
     "text": [
      "c=1000000000.0, Err:8865/10000, 0.8865\n"
     ]
    }
   ],
   "source": [
    "c = 1E9\n",
    "mu, sigma, pi = fit_generative_model(train_data, train_labels, c = 1E9)\n",
    "score = np.zeros((len(test_labels),k))\n",
    "for label in range(0,k):\n",
    "    rv = multivariate_normal(mean=mu[label], cov=sigma[label])\n",
    "    for i in range(0,len(test_labels)):\n",
    "      score[i,label] = np.log(pi[label]) + rv.logpdf(test_data[i,:])\n",
    "predictions = np.argmax(score, axis=1)\n",
    "# Finally, tally up score\n",
    "errors = np.sum(predictions != test_labels)\n",
    "print(f\"c={c}, Err:{str(errors)}/10000, {errors/10000}\")"
   ]
  },
  {
   "cell_type": "markdown",
   "metadata": {},
   "source": [
    "<font color=\"magenta\">Exercise 3:</font> What value of c did you end up using? How many errors did your model make on the training set?"
   ]
  },
  {
   "attachments": {},
   "cell_type": "markdown",
   "metadata": {},
   "source": [
    "Best Results:\n",
    "\n",
    "c=3664 = 438/10000, 0.0438 Error Rate"
   ]
  },
  {
   "cell_type": "markdown",
   "metadata": {},
   "source": [
    "<font color=\"magenta\">If you have the time</font>: We have talked about using the same regularization constant `c` for all ten classes. What about using a different value of `c` for each class? How would you go about choosing these? Can you get better performance in this way?"
   ]
  },
  {
   "attachments": {},
   "cell_type": "markdown",
   "metadata": {},
   "source": [
    "# Q15 part d"
   ]
  },
  {
   "cell_type": "code",
   "execution_count": 23,
   "metadata": {},
   "outputs": [],
   "source": [
    "c=3664\n",
    "mu, sigma, pi = fit_generative_model(train_data, train_labels, c = c)\n",
    "score = np.zeros((len(test_labels),k))\n",
    "for label in range(0,k):\n",
    "    rv = multivariate_normal(mean=mu[label], cov=sigma[label])\n",
    "    for i in range(0,len(test_labels)):\n",
    "      score[i,label] = np.log(pi[label]) + rv.logpdf(test_data[i,:])\n",
    "predictions = np.argmax(score, axis=1)"
   ]
  },
  {
   "cell_type": "code",
   "execution_count": 24,
   "metadata": {},
   "outputs": [
    {
     "name": "stdout",
     "output_type": "stream",
     "text": [
      "=== Test Sample 320, True label 9, Predicted Label 1\n",
      "\t[0], log(P(0|x)) =  -134.0400, P(0|x) = 0.000000\n",
      "\t[1], log(P(1|x)) =    -0.0000, P(1|x) = 0.999985\n",
      "\t[2], log(P(2|x)) =   -86.0809, P(2|x) = 0.000000\n",
      "\t[3], log(P(3|x)) =   -73.4812, P(3|x) = 0.000000\n",
      "\t[4], log(P(4|x)) =   -44.5374, P(4|x) = 0.000000\n",
      "\t[5], log(P(5|x)) =   -79.1180, P(5|x) = 0.000000\n",
      "\t[6], log(P(6|x)) =  -121.4409, P(6|x) = 0.000000\n",
      "\t[7], log(P(7|x)) =   -11.1198, P(7|x) = 0.000015\n",
      "\t[8], log(P(8|x)) =   -30.0164, P(8|x) = 0.000000\n",
      "\t[9], log(P(9|x)) =   -22.9886, P(9|x) = 0.000000\n"
     ]
    },
    {
     "data": {
      "image/png": "[encoded data removed]",
      "text/plain": [
       "<Figure size 640x480 with 1 Axes>"
      ]
     },
     "metadata": {},
     "output_type": "display_data"
    },
    {
     "name": "stdout",
     "output_type": "stream",
     "text": [
      "=== END Test Sample 320\n",
      "=== Test Sample 4966, True label 7, Predicted Label 9\n",
      "\t[0], log(P(0|x)) =   -92.3110, P(0|x) = 0.000000\n",
      "\t[1], log(P(1|x)) =    -6.8519, P(1|x) = 0.001057\n",
      "\t[2], log(P(2|x)) =   -49.8557, P(2|x) = 0.000000\n",
      "\t[3], log(P(3|x)) =   -39.9352, P(3|x) = 0.000000\n",
      "\t[4], log(P(4|x)) =   -12.7763, P(4|x) = 0.000003\n",
      "\t[5], log(P(5|x)) =   -41.4150, P(5|x) = 0.000000\n",
      "\t[6], log(P(6|x)) =   -49.6453, P(6|x) = 0.000000\n",
      "\t[7], log(P(7|x)) =    -1.7935, P(7|x) = 0.166378\n",
      "\t[8], log(P(8|x)) =   -13.0910, P(8|x) = 0.000002\n",
      "\t[9], log(P(9|x)) =    -0.1833, P(9|x) = 0.832559\n"
     ]
    },
    {
     "data": {
      "image/png": "[encoded data removed]",
      "text/plain": [
       "<Figure size 640x480 with 1 Axes>"
      ]
     },
     "metadata": {},
     "output_type": "display_data"
    },
    {
     "name": "stdout",
     "output_type": "stream",
     "text": [
      "=== END Test Sample 4966\n",
      "=== Test Sample 2129, True label 9, Predicted Label 2\n",
      "\t[0], log(P(0|x)) =   -58.5577, P(0|x) = 0.000000\n",
      "\t[1], log(P(1|x)) =  -277.8698, P(1|x) = 0.000000\n",
      "\t[2], log(P(2|x)) =     0.0000, P(2|x) = 1.000000\n",
      "\t[3], log(P(3|x)) =   -34.4194, P(3|x) = 0.000000\n",
      "\t[4], log(P(4|x)) =   -74.5441, P(4|x) = 0.000000\n",
      "\t[5], log(P(5|x)) =   -64.0238, P(5|x) = 0.000000\n",
      "\t[6], log(P(6|x)) =  -114.5576, P(6|x) = 0.000000\n",
      "\t[7], log(P(7|x)) =   -89.2343, P(7|x) = 0.000000\n",
      "\t[8], log(P(8|x)) =   -30.1542, P(8|x) = 0.000000\n",
      "\t[9], log(P(9|x)) =   -59.2533, P(9|x) = 0.000000\n"
     ]
    },
    {
     "data": {
      "image/png": "[encoded data removed]",
      "text/plain": [
       "<Figure size 640x480 with 1 Axes>"
      ]
     },
     "metadata": {},
     "output_type": "display_data"
    },
    {
     "name": "stdout",
     "output_type": "stream",
     "text": [
      "=== END Test Sample 2129\n",
      "=== Test Sample 3060, True label 9, Predicted Label 1\n",
      "\t[0], log(P(0|x)) =   -35.9062, P(0|x) = 0.000000\n",
      "\t[1], log(P(1|x)) =    -0.0563, P(1|x) = 0.945272\n",
      "\t[2], log(P(2|x)) =   -38.8763, P(2|x) = 0.000000\n",
      "\t[3], log(P(3|x)) =   -32.3519, P(3|x) = 0.000000\n",
      "\t[4], log(P(4|x)) =   -18.7199, P(4|x) = 0.000000\n",
      "\t[5], log(P(5|x)) =   -42.4339, P(5|x) = 0.000000\n",
      "\t[6], log(P(6|x)) =   -56.9203, P(6|x) = 0.000000\n",
      "\t[7], log(P(7|x)) =    -2.9569, P(7|x) = 0.051981\n",
      "\t[8], log(P(8|x)) =   -35.9937, P(8|x) = 0.000000\n",
      "\t[9], log(P(9|x)) =    -5.8975, P(9|x) = 0.002746\n"
     ]
    },
    {
     "data": {
      "image/png": "[encoded data removed]",
      "text/plain": [
       "<Figure size 640x480 with 1 Axes>"
      ]
     },
     "metadata": {},
     "output_type": "display_data"
    },
    {
     "name": "stdout",
     "output_type": "stream",
     "text": [
      "=== END Test Sample 3060\n",
      "=== Test Sample 4498, True label 7, Predicted Label 4\n",
      "\t[0], log(P(0|x)) =  -119.1755, P(0|x) = 0.000000\n",
      "\t[1], log(P(1|x)) =  -162.8433, P(1|x) = 0.000000\n",
      "\t[2], log(P(2|x)) =   -33.1990, P(2|x) = 0.000000\n",
      "\t[3], log(P(3|x)) =   -33.0528, P(3|x) = 0.000000\n",
      "\t[4], log(P(4|x)) =    -0.5702, P(4|x) = 0.565393\n",
      "\t[5], log(P(5|x)) =   -56.1085, P(5|x) = 0.000000\n",
      "\t[6], log(P(6|x)) =   -93.6327, P(6|x) = 0.000000\n",
      "\t[7], log(P(7|x)) =    -0.8333, P(7|x) = 0.434607\n",
      "\t[8], log(P(8|x)) =   -17.6050, P(8|x) = 0.000000\n",
      "\t[9], log(P(9|x)) =   -46.9964, P(9|x) = 0.000000\n"
     ]
    },
    {
     "data": {
      "image/png": "[encoded data removed]",
      "text/plain": [
       "<Figure size 640x480 with 1 Axes>"
      ]
     },
     "metadata": {},
     "output_type": "display_data"
    },
    {
     "name": "stdout",
     "output_type": "stream",
     "text": [
      "=== END Test Sample 4498\n"
     ]
    }
   ],
   "source": [
    "idx_wrong = np.nonzero(predictions != test_labels)[0]\n",
    "np.random.seed(123)\n",
    "# Sample 5 randomly out of those with differing predictions from test_labels\n",
    "samp = np.random.choice(idx_wrong, 5, replace=False)\n",
    "\n",
    "for idx in samp:\n",
    "  log_prob = np.log(pi[label]) + rv.logpdf(test_data[i,:])\n",
    "  print(f\"=== Test Sample {idx}, True label {test_labels[idx]}, Predicted Label {predictions[idx]}\")\n",
    "  score_row = score[idx]\n",
    "  # P(x) = \\sum_y P(x,y)\n",
    "  # log(P(x)) = log(\\sum_y P(x,y))\n",
    "  # P(x,y) = score[x_i,y]\n",
    "  log_px = -np.inf\n",
    "  for s in score_row:\n",
    "    log_px = np.logaddexp(log_px, s)\n",
    "  for i in range(10):\n",
    "    # The score[idx,i] is log(P(x|y)P(y)), log(P(x,y))\n",
    "    # P(y|x) = P(x,y)/P(x), log(P(y|x)) = log(P(x,y)) - log(P(x))\n",
    "    print(f\"\\t[{i}], log(P({i}|x)) = {score_row[i] - log_px:10.4f}, P({i}|x) = {np.exp(score_row[i] - log_px):0.6f}\")\n",
    "\n",
    "  displaychar(test_data[idx])\n",
    "  print(f\"=== END Test Sample {idx}\")"
   ]
  }
 ],
 "metadata": {
  "kernelspec": {
   "display_name": "mlenv",
   "language": "python",
   "name": "python3"
  },
  "language_info": {
   "codemirror_mode": {
    "name": "ipython",
    "version": 3
   },
   "file_extension": ".py",
   "mimetype": "text/x-python",
   "name": "python",
   "nbconvert_exporter": "python",
   "pygments_lexer": "ipython3",
   "version": "3.9.15"
  },
  "toc": {
   "colors": {
    "hover_highlight": "#DAA520",
    "navigate_num": "#000000",
    "navigate_text": "#333333",
    "running_highlight": "#FF0000",
    "selected_highlight": "#FFD700",
    "sidebar_border": "#EEEEEE",
    "wrapper_background": "#FFFFFF"
   },
   "moveMenuLeft": true,
   "nav_menu": {
    "height": "12px",
    "width": "252px"
   },
   "navigate_menu": true,
   "number_sections": false,
   "sideBar": true,
   "threshold": 4,
   "toc_cell": false,
   "toc_section_display": "block",
   "toc_window_display": false,
   "widenNotebook": false
  },
  "vscode": {
   "interpreter": {
    "hash": "ecabccf6f348d9314d60527b6ca15ab5187889d68a9ff19ddb5072320bd253af"
   }
  }
 },
 "nbformat": 4,
 "nbformat_minor": 1
}
