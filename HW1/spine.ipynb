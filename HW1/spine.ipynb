{
 "cells": [
  {
   "cell_type": "code",
   "execution_count": 1,
   "metadata": {},
   "outputs": [],
   "source": [
    "import numpy as np\n",
    "labels = [b'NO', b'DH', b'SL']\n",
    "data = np.loadtxt(\"../data/spine-data.txt\", converters={6: lambda s : labels.index(s)})"
   ]
  },
  {
   "cell_type": "code",
   "execution_count": 2,
   "metadata": {},
   "outputs": [
    {
     "name": "stdout",
     "output_type": "stream",
     "text": [
      "(250, 6) (250,)\n"
     ]
    }
   ],
   "source": [
    "tr = data[:250, :-1]\n",
    "te = data[250:, :-1]\n",
    "tr_y = data[:250, -1]\n",
    "te_y = data[250:, -1]\n",
    "\n",
    "print(tr.shape, tr_y.shape)"
   ]
  },
  {
   "cell_type": "code",
   "execution_count": 3,
   "metadata": {},
   "outputs": [],
   "source": [
    "# copied from example code\n",
    "def squared_dist(x,y):\n",
    "  v = np.sum(np.square(x - y))\n",
    "  return v\n",
    "\n",
    "def l1_norm(x, y):\n",
    "  return np.sum(np.abs(x - y))\n",
    "\n",
    "def find_NN(x, dist_fn):\n",
    "  # Compute distances from x to every row in train_data\n",
    "  distances = [dist_fn(x,tr[i,]) for i in range(len(tr_y))]\n",
    "  # Get the index of the smallest distance\n",
    "  return np.argmin(distances)\n",
    "def NN_classifier(x, dist_fn):\n",
    "  # Get the index of the the nearest neighbor\n",
    "  index = find_NN(x, dist_fn)\n",
    "  # Return its class\n",
    "  return tr_y[index]"
   ]
  },
  {
   "cell_type": "code",
   "execution_count": 4,
   "metadata": {},
   "outputs": [],
   "source": [
    "def experiment(dist_fn):\n",
    "  test_predictions = [NN_classifier(te[i,], dist_fn) for i in range(len(te_y))]\n",
    "  err_positions = np.not_equal(test_predictions, te_y)\n",
    "  error = float(np.sum(err_positions))/len(te_y)\n",
    "\n",
    "  mat = np.zeros((3, 3))\n",
    "  for lab, pred in zip(te_y, test_predictions):\n",
    "    x, y = int(lab), int(pred)\n",
    "    mat[x, y] += 1\n",
    "\n",
    "  return error, mat"
   ]
  },
  {
   "cell_type": "code",
   "execution_count": 5,
   "metadata": {},
   "outputs": [
    {
     "name": "stdout",
     "output_type": "stream",
     "text": [
      "=== L1 Norm ===\n",
      "Error: 0.2167\n",
      "[[14  0  2]\n",
      " [ 9  9  0]\n",
      " [ 1  1 24]]\n",
      "=== L2 Norm ===\n",
      "Error: 0.2333\n",
      "[[12  1  3]\n",
      " [ 9  9  0]\n",
      " [ 1  0 25]]\n"
     ]
    }
   ],
   "source": [
    "print(\"=== L1 Norm ===\")\n",
    "l1_e, l1_mat = experiment(l1_norm)\n",
    "print(f\"Error: {l1_e:0.4f}\")\n",
    "print(l1_mat.astype(int))\n",
    "print(\"=== L2 Norm ===\")\n",
    "l2_e, l2_mat = experiment(squared_dist)\n",
    "print(f\"Error: {l2_e:0.4f}\")\n",
    "print(l2_mat.astype(int))"
   ]
  }
 ],
 "metadata": {
  "kernelspec": {
   "display_name": "mlenv",
   "language": "python",
   "name": "python3"
  },
  "language_info": {
   "codemirror_mode": {
    "name": "ipython",
    "version": 3
   },
   "file_extension": ".py",
   "mimetype": "text/x-python",
   "name": "python",
   "nbconvert_exporter": "python",
   "pygments_lexer": "ipython3",
   "version": "3.9.0"
  },
  "orig_nbformat": 4,
  "vscode": {
   "interpreter": {
    "hash": "ecabccf6f348d9314d60527b6ca15ab5187889d68a9ff19ddb5072320bd253af"
   }
  }
 },
 "nbformat": 4,
 "nbformat_minor": 2
}
