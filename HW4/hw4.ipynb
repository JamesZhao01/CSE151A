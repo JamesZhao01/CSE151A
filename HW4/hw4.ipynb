{
 "cells": [
  {
   "cell_type": "code",
   "execution_count": 1,
   "metadata": {},
   "outputs": [],
   "source": [
    "import numpy as np, os\n",
    "from pathlib import Path"
   ]
  },
  {
   "attachments": {},
   "cell_type": "markdown",
   "metadata": {},
   "source": [
    "# Q7\n",
    "\n",
    "(a) My strategy is to do a linear fit, and then sort by the absolute value of the weights. The weights that are small likely correspond to noise, the weights that are large likely contribute to y. In case the features are rather similar to each other, I can also use ridge regression with a strong lambda term to further reduce the noisy inputs. With this strategy, sorting by the absolute value of the weights should yield 10 features that have relatively high coefficients, and then the rest of the parameters should have very low weights. There should be a clearly observed 'gap' in the absolute value of the weights between the 10th highest and 11th highest. If the gap is not large, then the regularization strength is too large.  \n",
    "\n",
    "(b)\n",
    "- Using 0-indexing: ```[1, 2, 4, 6, 10, 12, 16, 18, 22, 26]```\n",
    "- Using 1-indexing: ```[2, 3, 5, 7, 11, 13, 17, 19, 23, 27]```"
   ]
  },
  {
   "cell_type": "code",
   "execution_count": 23,
   "metadata": {},
   "outputs": [
    {
     "name": "stdout",
     "output_type": "stream",
     "text": [
      "(101, 101)\n",
      "(101, 100) (101, 1)\n"
     ]
    }
   ],
   "source": [
    "with open(\"data/HW4/mystery.dat\", \"r\") as f:\n",
    "  lines = np.array([list(map(float, l.strip().split(\",\"))) for l in f.readlines() if not l.isspace()])\n",
    "print(lines.shape)\n",
    "\n",
    "X = lines[:,:-1]\n",
    "y = lines[:,[-1]]\n",
    "\n",
    "print(X.shape, y.shape)"
   ]
  },
  {
   "cell_type": "code",
   "execution_count": 81,
   "metadata": {},
   "outputs": [
    {
     "name": "stdout",
     "output_type": "stream",
     "text": [
      "alpha=0\n",
      "\tOutput indexes:  [1, 10, 20, 23, 26, 33, 43, 57, 67, 70]\n",
      "\tOutput indexes (1-indexed):  [2, 11, 21, 24, 27, 34, 44, 58, 68, 71]\n",
      "\tStrongest 10:  [ 3.347  3.204  2.866 -2.501  2.248  2.22  -2.145  2.087 -2.073 -2.024]\n",
      "\tNext Strongest 5:  [ 1.922  1.889  1.859 -1.83  -1.8  ]\n",
      "\tGap: [0.10115185856595121]\n",
      "alpha=5\n",
      "\tOutput indexes:  [1, 2, 4, 6, 10, 12, 16, 18, 22, 26]\n",
      "\tOutput indexes (1-indexed):  [2, 3, 5, 7, 11, 13, 17, 19, 23, 27]\n",
      "\tStrongest 10:  [1.094 1.073 0.936 0.928 0.839 0.824 0.815 0.777 0.737 0.644]\n",
      "\tNext Strongest 5:  [0.374 0.308 0.304 0.277 0.271]\n",
      "\tGap: [0.270319002169907]\n",
      "alpha=10\n",
      "\tOutput indexes:  [1, 2, 4, 6, 10, 12, 16, 18, 22, 26]\n",
      "\tOutput indexes (1-indexed):  [2, 3, 5, 7, 11, 13, 17, 19, 23, 27]\n",
      "\tStrongest 10:  [0.992 0.961 0.865 0.791 0.759 0.753 0.722 0.708 0.705 0.566]\n",
      "\tNext Strongest 5:  [ 0.355  0.264  0.241  0.237 -0.221]\n",
      "\tGap: [0.211190224943121]\n",
      "alpha=15\n",
      "\tOutput indexes:  [1, 2, 4, 6, 10, 12, 16, 18, 22, 26]\n",
      "\tOutput indexes (1-indexed):  [2, 3, 5, 7, 11, 13, 17, 19, 23, 27]\n",
      "\tStrongest 10:  [0.928 0.879 0.807 0.736 0.712 0.697 0.678 0.655 0.642 0.518]\n",
      "\tNext Strongest 5:  [ 0.342  0.247  0.211 -0.206  0.204]\n",
      "\tGap: [0.17677514297840408]\n",
      "alpha=20\n",
      "\tOutput indexes:  [1, 2, 4, 6, 10, 12, 16, 18, 22, 26]\n",
      "\tOutput indexes (1-indexed):  [2, 3, 5, 7, 11, 13, 17, 19, 23, 27]\n",
      "\tStrongest 10:  [0.877 0.82  0.76  0.713 0.656 0.656 0.65  0.606 0.598 0.483]\n",
      "\tNext Strongest 5:  [ 0.33   0.23   0.213 -0.199 -0.198]\n",
      "\tGap: [0.1523785553397372]\n",
      "alpha=25\n",
      "\tOutput indexes:  [1, 2, 4, 6, 10, 12, 16, 18, 22, 26]\n",
      "\tOutput indexes (1-indexed):  [2, 3, 5, 7, 11, 13, 17, 19, 23, 27]\n",
      "\tStrongest 10:  [0.834 0.774 0.721 0.692 0.625 0.624 0.614 0.567 0.564 0.454]\n",
      "\tNext Strongest 5:  [ 0.32   0.216 -0.215  0.213 -0.192]\n",
      "\tGap: [0.13364157993843162]\n",
      "alpha=30\n",
      "\tOutput indexes:  [1, 2, 4, 6, 10, 12, 16, 18, 22, 26]\n",
      "\tOutput indexes (1-indexed):  [2, 3, 5, 7, 11, 13, 17, 19, 23, 27]\n",
      "\tStrongest 10:  [0.797 0.735 0.687 0.671 0.602 0.596 0.579 0.537 0.536 0.429]\n",
      "\tNext Strongest 5:  [ 0.311 -0.226  0.213  0.204 -0.191]\n",
      "\tGap: [0.11859582413173275]\n",
      "alpha=35\n",
      "\tOutput indexes:  [1, 2, 4, 6, 10, 12, 16, 18, 22, 26]\n",
      "\tOutput indexes (1-indexed):  [2, 3, 5, 7, 11, 13, 17, 19, 23, 27]\n",
      "\tStrongest 10:  [0.765 0.703 0.658 0.651 0.581 0.572 0.551 0.513 0.51  0.408]\n",
      "\tNext Strongest 5:  [ 0.302 -0.234  0.212  0.193 -0.19 ]\n",
      "\tGap: [0.10615841736401493]\n"
     ]
    }
   ],
   "source": [
    "from sklearn import linear_model\n",
    "import operator\n",
    "\n",
    "\n",
    "for i in range(0, 40, 5):\n",
    "  reg = linear_model.Ridge(alpha=i).fit(X, y)\n",
    "\n",
    "  w, b = reg.coef_, reg.intercept_\n",
    "\n",
    "  out = sorted(zip(list(w.flatten()), range(len(w.flatten()))), key = lambda x : -abs(x[0]))\n",
    "  res = sorted(map(operator.itemgetter(1), out[:10]))\n",
    "\n",
    "  print(f\"alpha={i}\")\n",
    "  print(\"\\tOutput indexes: \", res)\n",
    "  print(\"\\tOutput indexes (1-indexed): \", [v + 1 for v in res])\n",
    "\n",
    "  print(\"\\tStrongest 10: \", np.round(np.array([v[0] for v in out[:10]]), 3))\n",
    "  print(\"\\tNext Strongest 5: \", np.round(np.array([v[0] for v in out[10:15]]), 3))\n",
    "  print(f\"\\tGap: [{abs(out[9][0]) - abs(out[10][0])}]\")\n",
    "  # for i, v in enumerate(out[:20]):\n",
    "  #   if i == 10:\n",
    "  #     print(\"VV== Should be sharp drop below ==VV\")\n",
    "  #   print(v)\n"
   ]
  },
  {
   "attachments": {},
   "cell_type": "markdown",
   "metadata": {},
   "source": [
    "# Q8"
   ]
  },
  {
   "cell_type": "code",
   "execution_count": 75,
   "metadata": {},
   "outputs": [],
   "source": [
    "import pandas as pd"
   ]
  },
  {
   "cell_type": "code",
   "execution_count": 77,
   "metadata": {},
   "outputs": [
    {
     "data": {
      "text/html": [
       "<div>\n",
       "<style scoped>\n",
       "    .dataframe tbody tr th:only-of-type {\n",
       "        vertical-align: middle;\n",
       "    }\n",
       "\n",
       "    .dataframe tbody tr th {\n",
       "        vertical-align: top;\n",
       "    }\n",
       "\n",
       "    .dataframe thead th {\n",
       "        text-align: right;\n",
       "    }\n",
       "</style>\n",
       "<table border=\"1\" class=\"dataframe\">\n",
       "  <thead>\n",
       "    <tr style=\"text-align: right;\">\n",
       "      <th></th>\n",
       "      <th>age</th>\n",
       "      <th>sex</th>\n",
       "      <th>cp</th>\n",
       "      <th>trestbps</th>\n",
       "      <th>chol</th>\n",
       "      <th>fbs</th>\n",
       "      <th>restecg</th>\n",
       "      <th>thalach</th>\n",
       "      <th>exang</th>\n",
       "      <th>oldpeak</th>\n",
       "      <th>slope</th>\n",
       "      <th>ca</th>\n",
       "      <th>thal</th>\n",
       "      <th>target</th>\n",
       "    </tr>\n",
       "  </thead>\n",
       "  <tbody>\n",
       "    <tr>\n",
       "      <th>0</th>\n",
       "      <td>63</td>\n",
       "      <td>1</td>\n",
       "      <td>3</td>\n",
       "      <td>145</td>\n",
       "      <td>233</td>\n",
       "      <td>1</td>\n",
       "      <td>0</td>\n",
       "      <td>150</td>\n",
       "      <td>0</td>\n",
       "      <td>2.3</td>\n",
       "      <td>0</td>\n",
       "      <td>0</td>\n",
       "      <td>1</td>\n",
       "      <td>1</td>\n",
       "    </tr>\n",
       "    <tr>\n",
       "      <th>1</th>\n",
       "      <td>37</td>\n",
       "      <td>1</td>\n",
       "      <td>2</td>\n",
       "      <td>130</td>\n",
       "      <td>250</td>\n",
       "      <td>0</td>\n",
       "      <td>1</td>\n",
       "      <td>187</td>\n",
       "      <td>0</td>\n",
       "      <td>3.5</td>\n",
       "      <td>0</td>\n",
       "      <td>0</td>\n",
       "      <td>2</td>\n",
       "      <td>1</td>\n",
       "    </tr>\n",
       "    <tr>\n",
       "      <th>2</th>\n",
       "      <td>41</td>\n",
       "      <td>0</td>\n",
       "      <td>1</td>\n",
       "      <td>130</td>\n",
       "      <td>204</td>\n",
       "      <td>0</td>\n",
       "      <td>0</td>\n",
       "      <td>172</td>\n",
       "      <td>0</td>\n",
       "      <td>1.4</td>\n",
       "      <td>2</td>\n",
       "      <td>0</td>\n",
       "      <td>2</td>\n",
       "      <td>1</td>\n",
       "    </tr>\n",
       "    <tr>\n",
       "      <th>3</th>\n",
       "      <td>56</td>\n",
       "      <td>1</td>\n",
       "      <td>1</td>\n",
       "      <td>120</td>\n",
       "      <td>236</td>\n",
       "      <td>0</td>\n",
       "      <td>1</td>\n",
       "      <td>178</td>\n",
       "      <td>0</td>\n",
       "      <td>0.8</td>\n",
       "      <td>2</td>\n",
       "      <td>0</td>\n",
       "      <td>2</td>\n",
       "      <td>1</td>\n",
       "    </tr>\n",
       "    <tr>\n",
       "      <th>4</th>\n",
       "      <td>57</td>\n",
       "      <td>0</td>\n",
       "      <td>0</td>\n",
       "      <td>120</td>\n",
       "      <td>354</td>\n",
       "      <td>0</td>\n",
       "      <td>1</td>\n",
       "      <td>163</td>\n",
       "      <td>1</td>\n",
       "      <td>0.6</td>\n",
       "      <td>2</td>\n",
       "      <td>0</td>\n",
       "      <td>2</td>\n",
       "      <td>1</td>\n",
       "    </tr>\n",
       "  </tbody>\n",
       "</table>\n",
       "</div>"
      ],
      "text/plain": [
       "   age  sex  cp  trestbps  chol  fbs  restecg  thalach  exang  oldpeak  slope  \\\n",
       "0   63    1   3       145   233    1        0      150      0      2.3      0   \n",
       "1   37    1   2       130   250    0        1      187      0      3.5      0   \n",
       "2   41    0   1       130   204    0        0      172      0      1.4      2   \n",
       "3   56    1   1       120   236    0        1      178      0      0.8      2   \n",
       "4   57    0   0       120   354    0        1      163      1      0.6      2   \n",
       "\n",
       "   ca  thal  target  \n",
       "0   0     1       1  \n",
       "1   0     2       1  \n",
       "2   0     2       1  \n",
       "3   0     2       1  \n",
       "4   0     2       1  "
      ]
     },
     "execution_count": 77,
     "metadata": {},
     "output_type": "execute_result"
    }
   ],
   "source": [
    "df = pd.read_csv(\"data/HW4/heart.csv\")\n",
    "df.head()"
   ]
  },
  {
   "cell_type": "code",
   "execution_count": 87,
   "metadata": {},
   "outputs": [
    {
     "name": "stdout",
     "output_type": "stream",
     "text": [
      "(303, 13) (303, 1)\n"
     ]
    }
   ],
   "source": [
    "X = np.array(df.iloc[:,:-1])\n",
    "y = np.array(df.iloc[:,[-1]])\n",
    "\n",
    "print(X.shape, y.shape)"
   ]
  },
  {
   "cell_type": "code",
   "execution_count": 103,
   "metadata": {},
   "outputs": [
    {
     "name": "stdout",
     "output_type": "stream",
     "text": [
      "(200, 13) (200, 1) (103, 13) (103, 1)\n"
     ]
    }
   ],
   "source": [
    "np.random.seed(123)\n",
    "idx = np.random.choice(303, 303, replace=False)\n",
    "tr_idx, te_idx = idx[:200], idx[200:]\n",
    "\n",
    "X_tr, y_tr = X[tr_idx], y[tr_idx]\n",
    "X_te, y_te = X[te_idx], y[te_idx]\n",
    "\n",
    "X_tr_mu = np.mean(X_tr, axis=0, keepdims=True)\n",
    "X_tr_sig = np.std(X_tr, axis=0, keepdims=True)\n",
    "\n",
    "X_tr = (X_tr - X_tr_mu) / X_tr_sig\n",
    "X_te = (X_te - X_tr_mu) / X_tr_sig\n",
    "\n",
    "print(X_tr.shape, y_tr.shape, X_te.shape, y_te.shape)"
   ]
  },
  {
   "cell_type": "code",
   "execution_count": 108,
   "metadata": {},
   "outputs": [
    {
     "name": "stdout",
     "output_type": "stream",
     "text": [
      "[[-0.03662717 -0.97827814  0.80466309 -0.4959262  -0.34684898  0.15028609\n",
      "   0.17252423  0.69095302 -0.42864215 -0.75648048  0.51113222 -0.83144789\n",
      "  -0.49069434]] [-0.02337655]\n"
     ]
    }
   ],
   "source": [
    "reg = linear_model.LogisticRegression().fit(X_tr, y_tr.flatten())\n",
    "\n",
    "w, b = reg.coef_, reg.intercept_\n",
    "print(w, b)"
   ]
  }
 ],
 "metadata": {
  "kernelspec": {
   "display_name": "mlenv",
   "language": "python",
   "name": "python3"
  },
  "language_info": {
   "codemirror_mode": {
    "name": "ipython",
    "version": 3
   },
   "file_extension": ".py",
   "mimetype": "text/x-python",
   "name": "python",
   "nbconvert_exporter": "python",
   "pygments_lexer": "ipython3",
   "version": "3.8.15"
  },
  "orig_nbformat": 4,
  "vscode": {
   "interpreter": {
    "hash": "ecabccf6f348d9314d60527b6ca15ab5187889d68a9ff19ddb5072320bd253af"
   }
  }
 },
 "nbformat": 4,
 "nbformat_minor": 2
}
