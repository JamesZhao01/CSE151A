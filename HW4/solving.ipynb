{
 "cells": [
  {
   "cell_type": "code",
   "execution_count": 3,
   "metadata": {},
   "outputs": [],
   "source": [
    "import numpy as np"
   ]
  },
  {
   "cell_type": "code",
   "execution_count": 10,
   "metadata": {},
   "outputs": [
    {
     "name": "stdout",
     "output_type": "stream",
     "text": [
      "Q1a: 3.5, 3.25\n",
      "Q1b: 2.0\n",
      "Q1c 1.0 1.0\n"
     ]
    }
   ],
   "source": [
    "x = np.array((1, 1, 4, 4))\n",
    "y = np.array((1, 3, 4, 6))\n",
    "\n",
    "xb, yb = np.mean(x), np.mean(y)\n",
    "\n",
    "def mse(y1, y2):\n",
    "  return np.sum(np.square(y1 - y2)) / len(y2)\n",
    "\n",
    "print(f\"Q1a: {yb}, {mse(yb, y)}\")\n",
    "print(f\"Q1b: {mse(x, y)}\")\n",
    "\n",
    "a = np.sum((x - xb)*(y - yb)) / np.sum((x - xb)**2)\n",
    "b = yb - a*xb\n",
    "\n",
    "print(\"Q1c\", a, b)"
   ]
  },
  {
   "cell_type": "code",
   "execution_count": 23,
   "metadata": {},
   "outputs": [
    {
     "name": "stdout",
     "output_type": "stream",
     "text": [
      "y:  [-18   8  14  18  -3  -1   2  13  12 -11  12  12   5  -1  -6  16  12  -4\n",
      " -16 -17 -18   0  19 -18   0 -13]\n",
      "w:  [ 0.  0.  0. -0. -0.  0.  0.  0. -0.  0.  0.  0. -0. -0.  0.  0. -0. -0.\n",
      " -0. -0. -0.  0. -0. -0. -0.]\n",
      "b:  0.654\n",
      "mean:  0.6538461538461539\n"
     ]
    }
   ],
   "source": [
    "from sklearn import linear_model\n",
    "\n",
    "n = 26\n",
    "np.random.seed(123)\n",
    "y = np.random.randint(-20, 20, size=26)\n",
    "x = np.zeros((26, 25))\n",
    "x[1:,:] = np.eye(25)\n",
    "\n",
    "print(\"y: \", y)\n",
    "\n",
    "\n",
    "reg = linear_model.Ridge(alpha=999999).fit(x, y)\n",
    "w, b = reg.coef_, reg.intercept_\n",
    "\n",
    "print(\"w: \", np.round(w, 3))\n",
    "print(\"b: \", np.round(b, 3))\n",
    "print(\"mean: \", np.mean(y))"
   ]
  }
 ],
 "metadata": {
  "kernelspec": {
   "display_name": "mlenv",
   "language": "python",
   "name": "python3"
  },
  "language_info": {
   "codemirror_mode": {
    "name": "ipython",
    "version": 3
   },
   "file_extension": ".py",
   "mimetype": "text/x-python",
   "name": "python",
   "nbconvert_exporter": "python",
   "pygments_lexer": "ipython3",
   "version": "3.9.15"
  },
  "orig_nbformat": 4,
  "vscode": {
   "interpreter": {
    "hash": "ecabccf6f348d9314d60527b6ca15ab5187889d68a9ff19ddb5072320bd253af"
   }
  }
 },
 "nbformat": 4,
 "nbformat_minor": 2
}
