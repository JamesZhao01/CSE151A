{
 "cells": [
  {
   "cell_type": "code",
   "execution_count": 66,
   "metadata": {},
   "outputs": [],
   "source": [
    "import numpy as np\n",
    "import pandas as pd\n",
    "import itertools\n",
    "import matplotlib.pyplot as plt"
   ]
  },
  {
   "cell_type": "code",
   "execution_count": 67,
   "metadata": {},
   "outputs": [],
   "source": [
    "headers = [\n",
    "  \"Label\", \"Alchohol\", \"Malic Acid\", \"Ash\",\n",
    "  \"Alcalinity of Ash\", \"Magnesium\", \"Total Phenols\",\n",
    "  \"Flavanoids\", \"Nonflavanoid Phenols\", \"Proanthocyanins\",\n",
    "  \"Color Intensity\", \"Hue\", \"OD280/OD315 of Diluted Wines\", \"Proline\"\n",
    "]\n",
    "df = pd.read_csv(\"../data/HW2/wine.data\", names=headers)"
   ]
  },
  {
   "cell_type": "code",
   "execution_count": 68,
   "metadata": {},
   "outputs": [
    {
     "name": "stdout",
     "output_type": "stream",
     "text": [
      "(178, 13) (178,)\n"
     ]
    }
   ],
   "source": [
    "y = np.array(df[\"Label\"], dtype=np.float32)\n",
    "X = np.array(df.iloc[:,1:], dtype=np.float32)\n",
    "print(X.shape, y.shape)"
   ]
  },
  {
   "cell_type": "code",
   "execution_count": 69,
   "metadata": {},
   "outputs": [],
   "source": [
    "def Euclid(x, y):\n",
    "  return np.sum(np.square(y - x))\n",
    "\n",
    "def NN(dist_fn, X, y, query):\n",
    "  idx = np.argmin([dist_fn(r, query) for r in X])\n",
    "  return y[idx]\n",
    "\n",
    "def K_Fold_CV(X, y, k):\n",
    "  n = len(y)\n",
    "  errs = []\n",
    "  conf_data = []\n",
    "  for i in range(k):\n",
    "    lo, hi = (i * n) // k, ((i + 1) * n) // k\n",
    "    hold_X, hold_y = X[lo:hi], y[lo:hi]\n",
    "    tr_X, tr_y = np.vstack((X[:lo,:], X[hi:,:])), np.hstack((y[:lo], y[hi:]))\n",
    "\n",
    "    preds = [NN(Euclid, tr_X, tr_y, query) for query in hold_X]\n",
    "\n",
    "    if k == n:\n",
    "      conf_data.append((preds[0], hold_y.item()))\n",
    "\n",
    "    mismatch = np.not_equal(preds, hold_y)\n",
    "    err = np.sum(mismatch) / len(mismatch)\n",
    "    errs.append(err)\n",
    "  \n",
    "  if k == n:\n",
    "    return np.mean(errs), conf_data\n",
    "  else:\n",
    "    return np.mean(errs)"
   ]
  },
  {
   "attachments": {},
   "cell_type": "markdown",
   "metadata": {},
   "source": [
    "# 11a,b"
   ]
  },
  {
   "cell_type": "code",
   "execution_count": 70,
   "metadata": {},
   "outputs": [
    {
     "name": "stdout",
     "output_type": "stream",
     "text": [
      "=== Accuracy\n",
      "0.7696629213483146\n",
      "=== Confusion Matrix\n",
      "[[52.  5.  3.]\n",
      " [ 3. 54. 14.]\n",
      " [ 4. 12. 31.]]\n"
     ]
    }
   ],
   "source": [
    "def Do_LOOCV(X, y):\n",
    "  err, conf_data = K_Fold_CV(X, y, len(y))\n",
    "\n",
    "  conf_mat = np.zeros((3, 3))\n",
    "  for pred, lab in conf_data:\n",
    "    conf_mat[int(pred)-1,int(lab)-1] += 1\n",
    "  return conf_mat, err\n",
    "\n",
    "conf_mat, err = Do_LOOCV(X, y)\n",
    "print(f\"=== Accuracy\")\n",
    "print(1 - err)\n",
    "print(\"=== Confusion Matrix\")\n",
    "print(conf_mat)"
   ]
  },
  {
   "cell_type": "code",
   "execution_count": 75,
   "metadata": {},
   "outputs": [
    {
     "data": {
      "image/png": "[encoded data removed]",
      "text/plain": [
       "<Figure size 640x480 with 1 Axes>"
      ]
     },
     "metadata": {},
     "output_type": "display_data"
    },
    {
     "name": "stdout",
     "output_type": "stream",
     "text": [
      "=== Best\n",
      "k=94, acc=0.7765957446808511\n"
     ]
    }
   ],
   "source": [
    "folds = np.linspace(2, 100, 20).astype(np.int32)\n",
    "err = [1 - K_Fold_CV(X, y, fold) for fold in folds]\n",
    "\n",
    "plt.plot(folds, err, \"-dr\")\n",
    "plt.ylabel(\"Accuracy\")\n",
    "plt.xlabel(\"Folds\")\n",
    "for f, e in zip(folds, err):\n",
    "  plt.annotate(f\"k={f}\", (f, e), ha=\"center\", va=\"bottom\", fontsize=8)\n",
    "plt.show()\n",
    "\n",
    "best = np.argmax(err)\n",
    "print(\"=== Best\")\n",
    "print(f\"k={folds[best]}, acc={err[best]}\")"
   ]
  },
  {
   "attachments": {},
   "cell_type": "markdown",
   "metadata": {},
   "source": [
    "# 11c"
   ]
  },
  {
   "cell_type": "code",
   "execution_count": 72,
   "metadata": {},
   "outputs": [],
   "source": [
    "ranges = np.max(X, axis=0, keepdims=True) - np.min(X, axis=0, keepdims=True)\n",
    "X2 = (X - np.min(X, axis=0, keepdims=True)) / ranges"
   ]
  },
  {
   "cell_type": "code",
   "execution_count": 77,
   "metadata": {},
   "outputs": [
    {
     "name": "stdout",
     "output_type": "stream",
     "text": [
      "=== Accuracy\n",
      "0.949438202247191\n",
      "=== Confusion Matrix\n",
      "[[59.  5.  0.]\n",
      " [ 0. 62.  0.]\n",
      " [ 0.  4. 48.]]\n",
      "The Normaliation helped a significant amount, increasing accuracy from 0.770 to 0.949\n"
     ]
    }
   ],
   "source": [
    "conf_mat, err = Do_LOOCV(X2, y)\n",
    "print(f\"=== Accuracy\")\n",
    "print(1 - err)\n",
    "print(\"=== Confusion Matrix\")\n",
    "print(conf_mat)\n",
    "\n",
    "print(\"The Normaliation helped a significant amount, increasing accuracy from 0.770 to 0.949\")"
   ]
  },
  {
   "attachments": {},
   "cell_type": "markdown",
   "metadata": {},
   "source": [
    "# 12"
   ]
  },
  {
   "cell_type": "code",
   "execution_count": null,
   "metadata": {},
   "outputs": [],
   "source": []
  }
 ],
 "metadata": {
  "kernelspec": {
   "display_name": "mlenv",
   "language": "python",
   "name": "python3"
  },
  "language_info": {
   "codemirror_mode": {
    "name": "ipython",
    "version": 3
   },
   "file_extension": ".py",
   "mimetype": "text/x-python",
   "name": "python",
   "nbconvert_exporter": "python",
   "pygments_lexer": "ipython3",
   "version": "3.9.15"
  },
  "orig_nbformat": 4,
  "vscode": {
   "interpreter": {
    "hash": "ecabccf6f348d9314d60527b6ca15ab5187889d68a9ff19ddb5072320bd253af"
   }
  }
 },
 "nbformat": 4,
 "nbformat_minor": 2
}
