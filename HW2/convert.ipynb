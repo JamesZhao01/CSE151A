{
 "cells": [
  {
   "cell_type": "code",
   "execution_count": 3,
   "metadata": {},
   "outputs": [
    {
     "name": "stderr",
     "output_type": "stream",
     "text": [
      "[NbConvertApp] Converting notebook cross_validation.ipynb to html\n",
      "[NbConvertApp] Writing 633819 bytes to cross_validation.html\n",
      "[NbConvertApp] Converting notebook sampling.ipynb to html\n",
      "[NbConvertApp] Writing 622555 bytes to sampling.html\n"
     ]
    }
   ],
   "source": [
    "!jupyter nbconvert --allow-chromium-download --to html cross_validation.ipynb\n",
    "!jupyter nbconvert --allow-chromium-download --to html sampling.ipynb"
   ]
  },
  {
   "cell_type": "code",
   "execution_count": 1,
   "metadata": {},
   "outputs": [],
   "source": [
    "from PyPDF2 import PdfMerger\n",
    "\n",
    "pdfs = ['CSE151A_HW2.pdf', 'cross_validation.pdf', 'sampling.pdf']\n",
    "\n",
    "merger = PdfMerger()\n",
    "\n",
    "for pdf in pdfs:\n",
    "    merger.append(pdf)\n",
    "\n",
    "merger.write(\"hw2.pdf\")\n",
    "merger.close()\n"
   ]
  },
  {
   "cell_type": "code",
   "execution_count": null,
   "metadata": {},
   "outputs": [],
   "source": []
  }
 ],
 "metadata": {
  "kernelspec": {
   "display_name": "mlenv",
   "language": "python",
   "name": "python3"
  },
  "language_info": {
   "codemirror_mode": {
    "name": "ipython",
    "version": 3
   },
   "file_extension": ".py",
   "mimetype": "text/x-python",
   "name": "python",
   "nbconvert_exporter": "python",
   "pygments_lexer": "ipython3",
   "version": "3.9.0"
  },
  "orig_nbformat": 4,
  "vscode": {
   "interpreter": {
    "hash": "ecabccf6f348d9314d60527b6ca15ab5187889d68a9ff19ddb5072320bd253af"
   }
  }
 },
 "nbformat": 4,
 "nbformat_minor": 2
}
