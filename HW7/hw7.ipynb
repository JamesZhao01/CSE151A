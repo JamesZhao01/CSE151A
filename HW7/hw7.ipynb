{
 "cells": [
  {
   "attachments": {},
   "cell_type": "markdown",
   "metadata": {},
   "source": [
    "# Q6"
   ]
  },
  {
   "cell_type": "code",
   "execution_count": 89,
   "metadata": {},
   "outputs": [
    {
     "name": "stdout",
     "output_type": "stream",
     "text": [
      "(48, 2) (48,)\n"
     ]
    }
   ],
   "source": [
    "import numpy as np\n",
    "import matplotlib.pyplot as plt\n",
    "\n",
    "data0 = np.loadtxt(\"data0.txt\")\n",
    "X = data0[:,:2]\n",
    "y = data0[:,-1]\n",
    "print(X.shape, y.shape)"
   ]
  },
  {
   "cell_type": "code",
   "execution_count": 94,
   "metadata": {},
   "outputs": [],
   "source": [
    "def converged(w, b, X, y):\n",
    "  predictions = np.argmax((X @ w) + b.reshape((1, -1)), axis=1)\n",
    "  return np.allclose(predictions, y)\n",
    "def perceptron(X, y):\n",
    "  num_classes = len(np.unique(y))\n",
    "  n = X.shape[0]\n",
    "  w = np.zeros((X.shape[1], num_classes))\n",
    "  b = np.zeros(num_classes)\n",
    "\n",
    "  perm = np.random.choice(range(n), n, replace=False)\n",
    "  X_perm = X[perm]\n",
    "  y_perm = y[perm]\n",
    "  num_iterations = 0\n",
    "  max_iterations = 999\n",
    "  while not converged(w, b, X, y) and num_iterations < max_iterations:\n",
    "    for i in range(n):\n",
    "      Xi = X_perm[i]\n",
    "      yi = int(y_perm[i])\n",
    "      y_pred = int(np.argmax(Xi.reshape((1, -1)) @ w + b))\n",
    "      if yi != y_pred:\n",
    "        w[:,yi] += Xi\n",
    "        b[yi] += 1\n",
    "        w[:,y_pred] -= Xi\n",
    "        b[y_pred] -= 1\n",
    "    num_iterations += 1\n",
    "  return w, b\n",
    "def plot(X, y, w, b):\n",
    "  min_x1, max_x1 = np.min(X[:,0]) - 0.5, np.max(X[:,0]) + 0.5\n",
    "  min_x2, max_x2 = np.min(X[:,1]) - 0.5, np.max(X[:,1]) + 0.5\n",
    "  delta = 0.1\n",
    "\n",
    "  plt.xlim(min_x1, max_x1)\n",
    "  plt.ylim(min_x2, max_x2)\n",
    "\n",
    "  xx, yy = np.meshgrid(np.arange(min_x1, max_x1 + delta, delta), np.arange(min_x2, max_x2 + delta, delta))\n",
    "  pairs = np.c_[xx.flatten(), yy.flatten()]\n",
    "  zz = np.zeros(len(pairs))\n",
    "  for i, pair in enumerate(pairs):\n",
    "    pair2 = pair.reshape((1, -1))\n",
    "    zz[i] = np.argmax((pair2 @ w ).flatten() + b)\n",
    "  zz = zz.reshape(xx.shape)\n",
    "  styles = [\"^r\", \"og\", \"pb\", \"*m\"]\n",
    "  for i in range(4):\n",
    "    Xi, yi = X[y==i], y[y==i]\n",
    "    plt.plot(Xi[:,0], Xi[:,1], styles[i])\n",
    "  plt.pcolormesh(xx, yy, zz, cmap=\"rainbow\", vmin=0, vmax=4)\n",
    "  plt.show()"
   ]
  },
  {
   "cell_type": "code",
   "execution_count": 95,
   "metadata": {},
   "outputs": [
    {
     "data": {
      "image/png": "[encoded data removed]",
      "text/plain": [
       "<Figure size 432x288 with 1 Axes>"
      ]
     },
     "metadata": {
      "needs_background": "light"
     },
     "output_type": "display_data"
    }
   ],
   "source": [
    "np.random.seed(123)\n",
    "\n",
    "w, b = perceptron(X, y)\n",
    "plot(X, y, w, b)"
   ]
  },
  {
   "attachments": {},
   "cell_type": "markdown",
   "metadata": {},
   "source": [
    "# Q7"
   ]
  }
 ],
 "metadata": {
  "kernelspec": {
   "display_name": "mlenv",
   "language": "python",
   "name": "python3"
  },
  "language_info": {
   "codemirror_mode": {
    "name": "ipython",
    "version": 3
   },
   "file_extension": ".py",
   "mimetype": "text/x-python",
   "name": "python",
   "nbconvert_exporter": "python",
   "pygments_lexer": "ipython3",
   "version": "3.8.15"
  },
  "orig_nbformat": 4,
  "vscode": {
   "interpreter": {
    "hash": "ecabccf6f348d9314d60527b6ca15ab5187889d68a9ff19ddb5072320bd253af"
   }
  }
 },
 "nbformat": 4,
 "nbformat_minor": 2
}
