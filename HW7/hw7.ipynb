{
 "cells": [
  {
   "attachments": {},
   "cell_type": "markdown",
   "metadata": {},
   "source": [
    "# Q6"
   ]
  },
  {
   "cell_type": "code",
   "execution_count": 1,
   "metadata": {},
   "outputs": [],
   "source": [
    "import numpy as np\n",
    "import matplotlib.pyplot as plt"
   ]
  },
  {
   "cell_type": "code",
   "execution_count": 2,
   "metadata": {},
   "outputs": [
    {
     "name": "stdout",
     "output_type": "stream",
     "text": [
      "(48, 2) (48,)\n"
     ]
    }
   ],
   "source": [
    "data0 = np.loadtxt(\"data0.txt\")\n",
    "X0 = data0[:,:2]\n",
    "y0 = data0[:,-1]\n",
    "print(X0.shape, y0.shape)"
   ]
  },
  {
   "cell_type": "code",
   "execution_count": 3,
   "metadata": {},
   "outputs": [],
   "source": [
    "def converged(w, b, X, y):\n",
    "  predictions = np.argmax((X @ w) + b.reshape((1, -1)), axis=1)\n",
    "  return np.allclose(predictions, y)\n",
    "def perceptron(X, y):\n",
    "  num_classes = len(np.unique(y))\n",
    "  n = X.shape[0]\n",
    "  w = np.zeros((X.shape[1], num_classes))\n",
    "  b = np.zeros(num_classes)\n",
    "\n",
    "  perm = np.random.choice(range(n), n, replace=False)\n",
    "  X_perm = X[perm]\n",
    "  y_perm = y[perm]\n",
    "  num_iterations = 0\n",
    "  max_iterations = 999\n",
    "  while not converged(w, b, X, y) and num_iterations < max_iterations:\n",
    "    for i in range(n):\n",
    "      Xi = X_perm[i]\n",
    "      yi = int(y_perm[i])\n",
    "      y_pred = int(np.argmax(Xi.reshape((1, -1)) @ w + b))\n",
    "      if yi != y_pred:\n",
    "        w[:,yi] += Xi\n",
    "        b[yi] += 1\n",
    "        w[:,y_pred] -= Xi\n",
    "        b[y_pred] -= 1\n",
    "    num_iterations += 1\n",
    "  return w, b\n",
    "def plot0(X, y, w, b):\n",
    "  min_x1, max_x1 = np.min(X[:,0]) - 0.5, np.max(X[:,0]) + 0.5\n",
    "  min_x2, max_x2 = np.min(X[:,1]) - 0.5, np.max(X[:,1]) + 0.5\n",
    "  delta = 0.1\n",
    "\n",
    "  plt.xlim(min_x1, max_x1)\n",
    "  plt.ylim(min_x2, max_x2)\n",
    "\n",
    "  xx, yy = np.meshgrid(np.arange(min_x1, max_x1 + delta, delta), np.arange(min_x2, max_x2 + delta, delta))\n",
    "  pairs = np.c_[xx.flatten(), yy.flatten()]\n",
    "  zz = np.zeros(len(pairs))\n",
    "  for i, pair in enumerate(pairs):\n",
    "    pair2 = pair.reshape((1, -1))\n",
    "    zz[i] = np.argmax((pair2 @ w ).flatten() + b)\n",
    "  zz = zz.reshape(xx.shape)\n",
    "  styles = [\"^r\", \"og\", \"pb\", \"*m\"]\n",
    "  for i in range(4):\n",
    "    Xi, yi = X[y==i], y[y==i]\n",
    "    plt.plot(Xi[:,0], Xi[:,1], styles[i])\n",
    "  plt.pcolormesh(xx, yy, zz, cmap=\"rainbow\", vmin=0, vmax=4)\n",
    "  plt.show()"
   ]
  },
  {
   "cell_type": "code",
   "execution_count": 4,
   "metadata": {},
   "outputs": [
    {
     "data": {
      "image/png": "[encoded data removed]",
      "text/plain": [
       "<Figure size 432x288 with 1 Axes>"
      ]
     },
     "metadata": {
      "needs_background": "light"
     },
     "output_type": "display_data"
    }
   ],
   "source": [
    "np.random.seed(123)\n",
    "\n",
    "w, b = perceptron(X0, y0)\n",
    "plot0(X0, y0, w, b)"
   ]
  },
  {
   "attachments": {},
   "cell_type": "markdown",
   "metadata": {},
   "source": [
    "# Q7"
   ]
  },
  {
   "cell_type": "code",
   "execution_count": 5,
   "metadata": {},
   "outputs": [
    {
     "name": "stdout",
     "output_type": "stream",
     "text": [
      "(76, 2) (60, 2) (76,) (60,)\n"
     ]
    }
   ],
   "source": [
    "data1 = np.loadtxt(\"data1.txt\")\n",
    "data2 = np.loadtxt(\"data2.txt\")\n",
    "\n",
    "X1, y1 = data1[:,:-1], data1[:,-1]\n",
    "X2, y2 = data2[:,:-1], data2[:,-1]\n",
    "print(X1.shape, X2.shape, y1.shape, y2.shape)"
   ]
  },
  {
   "cell_type": "code",
   "execution_count": 6,
   "metadata": {},
   "outputs": [],
   "source": [
    "def kernel_classify(b, X, x, y, alpha):\n",
    "  terms = alpha.flatten() * y.flatten()\n",
    "  dots = np.square(1 + X @ x.reshape((-1, 1))).flatten()\n",
    "  w_dot_phi = np.dot(terms, dots)\n",
    "  decision = w_dot_phi + b\n",
    "  return np.sign(decision)\n",
    "\n",
    "def kernel_converge(b, X, y, alpha):\n",
    "  dot_matrix = np.square(1 + X @ X.T)\n",
    "  column_terms = (alpha * y).reshape((-1, 1))\n",
    "\n",
    "  logit_matrix = dot_matrix * column_terms\n",
    "  predictions = np.sum(logit_matrix, axis=0) + b\n",
    "  return np.allclose(np.sign(predictions), y)\n",
    "\n",
    "def kernel_perceptron(X, y):\n",
    "  n, d = X.shape\n",
    "  alpha = np.zeros(n)\n",
    "  b = 0\n",
    "  \n",
    "  for i in range(8000):\n",
    "    perm = np.random.choice(n, n, replace=False)\n",
    "    for j in perm:\n",
    "      xj = X[j]\n",
    "      yj = y[j]\n",
    "      if kernel_classify(b, X, xj, y, alpha) != yj:\n",
    "        alpha[j] += 1\n",
    "        b += yj\n",
    "    if kernel_converge(b, X, y, alpha):\n",
    "      return alpha, b, X, y\n",
    "  raise Exception(\"Did not converge\")\n",
    "  \n",
    "\n",
    "def gen_classify(alpha, b, X, y):\n",
    "  def clas(x):\n",
    "    phis = ((1 + X @ x.reshape((-1, 1))) ** 2).flatten()\n",
    "    decision = np.sum(alpha * y * phis) + b\n",
    "    return np.sign(decision)\n",
    "  return clas\n",
    "\n",
    "def plot1(X, y, classify, title=\"\"):\n",
    "  min_x1, max_x1 = np.min(X[:,0]) - 0.5, np.max(X[:,0]) + 0.5\n",
    "  min_x2, max_x2 = np.min(X[:,1]) - 0.5, np.max(X[:,1]) + 0.5\n",
    "  delta = 0.1\n",
    "\n",
    "  plt.xlim(min_x1, max_x1)\n",
    "  plt.ylim(min_x2, max_x2)\n",
    "\n",
    "  xx, yy = np.meshgrid(np.arange(min_x1, max_x1 + delta, delta), np.arange(min_x2, max_x2 + delta, delta))\n",
    "  pairs = np.c_[xx.flatten(), yy.flatten()]\n",
    "  zz = np.zeros(len(pairs))\n",
    "  for i, pair in enumerate(pairs):\n",
    "    pair2 = pair.reshape((1, -1))\n",
    "    zz[i] = classify(pair)\n",
    "  zz = zz.reshape(xx.shape)\n",
    "  styles = [\"^r\", \"og\"]\n",
    "  for idx, label in enumerate([-1, 1]):\n",
    "    Xi, yi = X[y==label], y[y==label]\n",
    "    plt.plot(Xi[:,0], Xi[:,1], styles[idx])\n",
    "  plt.pcolormesh(xx, yy, zz, cmap=plt.cm.PRGn, vmin=-2, vmax=2)\n",
    "  if title:\n",
    "    plt.title(title)\n",
    "  plt.show()"
   ]
  },
  {
   "cell_type": "code",
   "execution_count": 7,
   "metadata": {},
   "outputs": [
    {
     "data": {
      "image/png": "[encoded data removed]",
      "text/plain": [
       "<Figure size 432x288 with 1 Axes>"
      ]
     },
     "metadata": {
      "needs_background": "light"
     },
     "output_type": "display_data"
    },
    {
     "data": {
      "image/png": "[encoded data removed]",
      "text/plain": [
       "<Figure size 432x288 with 1 Axes>"
      ]
     },
     "metadata": {
      "needs_background": "light"
     },
     "output_type": "display_data"
    }
   ],
   "source": [
    "np.random.seed(123)\n",
    "alpha_1, b_1, X_1, y_1 = kernel_perceptron(X1, y1)\n",
    "clas_1 = gen_classify(alpha_1, b_1, X_1, y_1)\n",
    "plot1(X_1, y_1, clas_1, title = \"data1.txt Kernel Perceptron\")\n",
    "\n",
    "np.random.seed(999)\n",
    "alpha_2, b_2, X_2, y_2 = kernel_perceptron(X2, y2)\n",
    "clas_2 = gen_classify(alpha_2, b_2, X_2, y_2)\n",
    "plot1(X_2, y_2, clas_2, title = \"data2.txt Kernel Perceptron\")"
   ]
  },
  {
   "cell_type": "code",
   "execution_count": 8,
   "metadata": {},
   "outputs": [],
   "source": [
    "def rbf_classify(b, X, x, y, alpha, s):\n",
    "  terms = alpha.flatten() * y.flatten()\n",
    "  distances = np.exp(-np.sum(np.square(X - x.reshape((1, -1))), axis = 1) / (s ** 2))\n",
    "  decision = np.sum(distances * terms) + b\n",
    "  return np.sign(decision)\n",
    "\n",
    "def rbf_converge(b, X, y, alpha, s):\n",
    "  n, d = X.shape\n",
    "  terms = alpha.flatten() * y.flatten()\n",
    "  for i in range(n):\n",
    "    xi = X[i]\n",
    "    yi = y[i]\n",
    "    distances = np.exp(-np.sum(np.square(X - xi.reshape((1, -1))), axis = 1) / (s ** 2))\n",
    "    decision = np.sum(distances * terms) + b\n",
    "    if not np.sign(decision) == yi:\n",
    "      return False\n",
    "  return True\n",
    "\n",
    "def rbf_perceptron(X, y, s):\n",
    "  n, d = X.shape\n",
    "  alpha = np.zeros(n)\n",
    "  b = 0\n",
    "  \n",
    "  for i in range(8000):\n",
    "    perm = np.random.choice(n, n, replace=False)\n",
    "    for j in perm:\n",
    "      xj = X[j]\n",
    "      yj = y[j]\n",
    "      if rbf_classify(b, X, xj, y, alpha, s) != yj:\n",
    "        alpha[j] += 1\n",
    "        b += yj\n",
    "    if rbf_converge(b, X, y, alpha, s):\n",
    "      return alpha, b, X, y\n",
    "  raise Exception(\"Did not converge\")\n",
    "  \n",
    "def rbf_gen_classify(alpha, b, X, y, s):\n",
    "  def clas(x):\n",
    "    terms = alpha.flatten() * y.flatten()\n",
    "    distances = np.exp(-np.sum(np.square(X - x.reshape((1, -1))), axis = 1) / (s ** 2))\n",
    "    decision = np.sum(distances * terms) + b\n",
    "    return np.sign(decision)\n",
    "  return clas"
   ]
  },
  {
   "cell_type": "code",
   "execution_count": 9,
   "metadata": {},
   "outputs": [
    {
     "data": {
      "image/png": "[encoded data removed]",
      "text/plain": [
       "<Figure size 432x288 with 1 Axes>"
      ]
     },
     "metadata": {
      "needs_background": "light"
     },
     "output_type": "display_data"
    },
    {
     "data": {
      "image/png": "[encoded data removed]",
      "text/plain": [
       "<Figure size 432x288 with 1 Axes>"
      ]
     },
     "metadata": {
      "needs_background": "light"
     },
     "output_type": "display_data"
    },
    {
     "data": {
      "image/png": "[encoded data removed]",
      "text/plain": [
       "<Figure size 432x288 with 1 Axes>"
      ]
     },
     "metadata": {
      "needs_background": "light"
     },
     "output_type": "display_data"
    },
    {
     "data": {
      "image/png": "[encoded data removed]",
      "text/plain": [
       "<Figure size 432x288 with 1 Axes>"
      ]
     },
     "metadata": {
      "needs_background": "light"
     },
     "output_type": "display_data"
    }
   ],
   "source": [
    "s = 1\n",
    "\n",
    "np.random.seed(123)\n",
    "alpha_1, b_1, X_1, y_1 = rbf_perceptron(X1, y1, s)\n",
    "clas_1 = rbf_gen_classify(alpha_1, b_1, X_1, y_1, s)\n",
    "plot1(X_1, y_1, clas_1, title = f\"data1.txt Rbf Perceptron, s = {s}\")\n",
    "\n",
    "np.random.seed(999)\n",
    "alpha_2, b_2, X_2, y_2 = rbf_perceptron(X2, y2, s)\n",
    "clas_2 = rbf_gen_classify(alpha_2, b_2, X_2, y_2, s)\n",
    "plot1(X_2, y_2, clas_2, title = f\"data2.txt Rbf Perceptron, s = {s}\")\n",
    "\n",
    "s = 10\n",
    "\n",
    "np.random.seed(123)\n",
    "alpha_1, b_1, X_1, y_1 = rbf_perceptron(X1, y1, s)\n",
    "clas_1 = rbf_gen_classify(alpha_1, b_1, X_1, y_1, s)\n",
    "plot1(X_1, y_1, clas_1, title = f\"data1.txt Rbf Perceptron, s = {s}\")\n",
    "\n",
    "np.random.seed(999)\n",
    "alpha_2, b_2, X_2, y_2 = rbf_perceptron(X2, y2, s)\n",
    "clas_2 = rbf_gen_classify(alpha_2, b_2, X_2, y_2, s)\n",
    "plot1(X_2, y_2, clas_2, title = f\"data2.txt Rbf Perceptron, s = {s}\")"
   ]
  },
  {
   "attachments": {},
   "cell_type": "markdown",
   "metadata": {},
   "source": [
    "# Q8"
   ]
  },
  {
   "cell_type": "code",
   "execution_count": 10,
   "metadata": {},
   "outputs": [
    {
     "name": "stderr",
     "output_type": "stream",
     "text": [
      "c:\\Users\\James\\anaconda3\\envs\\mlenv\\lib\\site-packages\\sklearn\\datasets\\_openml.py:932: FutureWarning: The default value of `parser` will change from `'liac-arff'` to `'auto'` in 1.4. You can set `parser='auto'` to silence this warning. Therefore, an `ImportError` will be raised from 1.4 if the dataset is dense and pandas is not installed. Note that the pandas parser may return different data types. See the Notes Section in fetch_openml's API doc for details.\n",
      "  warn(\n"
     ]
    }
   ],
   "source": [
    "import sklearn.datasets as ds\n",
    "\n",
    "data = ds.fetch_openml(\"mnist_784\")"
   ]
  },
  {
   "cell_type": "code",
   "execution_count": 11,
   "metadata": {},
   "outputs": [
    {
     "name": "stdout",
     "output_type": "stream",
     "text": [
      "(70000, 784) (70000,)\n",
      "(60000, 784) (10000, 784) (60000,) (10000,)\n"
     ]
    }
   ],
   "source": [
    "X = data['data'].to_numpy()\n",
    "y = np.array([int(q) for q in data['target']])\n",
    "\n",
    "print(X.shape, y.shape)\n",
    "X_tr, X_te = X[:60000,:], X[60000:,:]\n",
    "y_tr, y_te = y[:60000], y[60000:]\n",
    "\n",
    "print(X_tr.shape, X_te.shape, y_tr.shape, y_te.shape)"
   ]
  },
  {
   "cell_type": "code",
   "execution_count": 12,
   "metadata": {},
   "outputs": [
    {
     "name": "stderr",
     "output_type": "stream",
     "text": [
      "c:\\Users\\James\\anaconda3\\envs\\mlenv\\lib\\site-packages\\sklearn\\svm\\_base.py:1244: ConvergenceWarning: Liblinear failed to converge, increase the number of iterations.\n",
      "  warnings.warn(\n"
     ]
    },
    {
     "name": "stdout",
     "output_type": "stream",
     "text": [
      "C=0.01\n",
      "\terr_tr=0.15438333333333334, err_te=0.1579\n"
     ]
    },
    {
     "name": "stderr",
     "output_type": "stream",
     "text": [
      "c:\\Users\\James\\anaconda3\\envs\\mlenv\\lib\\site-packages\\sklearn\\svm\\_base.py:1244: ConvergenceWarning: Liblinear failed to converge, increase the number of iterations.\n",
      "  warnings.warn(\n"
     ]
    },
    {
     "name": "stdout",
     "output_type": "stream",
     "text": [
      "C=0.1\n",
      "\terr_tr=0.13591666666666666, err_te=0.1429\n"
     ]
    },
    {
     "name": "stderr",
     "output_type": "stream",
     "text": [
      "c:\\Users\\James\\anaconda3\\envs\\mlenv\\lib\\site-packages\\sklearn\\svm\\_base.py:1244: ConvergenceWarning: Liblinear failed to converge, increase the number of iterations.\n",
      "  warnings.warn(\n"
     ]
    },
    {
     "name": "stdout",
     "output_type": "stream",
     "text": [
      "C=1.0\n",
      "\terr_tr=0.12038333333333333, err_te=0.1219\n"
     ]
    },
    {
     "name": "stderr",
     "output_type": "stream",
     "text": [
      "c:\\Users\\James\\anaconda3\\envs\\mlenv\\lib\\site-packages\\sklearn\\svm\\_base.py:1244: ConvergenceWarning: Liblinear failed to converge, increase the number of iterations.\n",
      "  warnings.warn(\n"
     ]
    },
    {
     "name": "stdout",
     "output_type": "stream",
     "text": [
      "C=10\n",
      "\terr_tr=0.13311666666666666, err_te=0.1326\n",
      "C=100\n",
      "\terr_tr=0.15, err_te=0.1626\n"
     ]
    },
    {
     "name": "stderr",
     "output_type": "stream",
     "text": [
      "c:\\Users\\James\\anaconda3\\envs\\mlenv\\lib\\site-packages\\sklearn\\svm\\_base.py:1244: ConvergenceWarning: Liblinear failed to converge, increase the number of iterations.\n",
      "  warnings.warn(\n"
     ]
    }
   ],
   "source": [
    "from sklearn.svm import LinearSVC\n",
    "\n",
    "def experiment(svm: LinearSVC, X_tr, X_te, y_tr, y_te):\n",
    "  reg = svm.fit(X_tr, y_tr)\n",
    "  pred_tr = reg.predict(X_tr)\n",
    "  pred_te = reg.predict(X_te)\n",
    "\n",
    "  err_tr = np.mean(np.not_equal(y_tr.flatten(), pred_tr))\n",
    "  err_te = np.mean(np.not_equal(y_te.flatten(), pred_te))\n",
    "\n",
    "  return err_tr, err_te, reg\n",
    "\n",
    "for C in [0.01, 0.1, 1.0, 10, 100]:\n",
    "  svm = LinearSVC(loss=\"hinge\", C=C, max_iter=100)\n",
    "  err_tr, err_te, reg = experiment(svm, X_tr, X_te, y_tr, y_te)\n",
    "  print(f\"C={C}\")\n",
    "  print(f\"\\t{err_tr=}, {err_te=}\")"
   ]
  },
  {
   "cell_type": "code",
   "execution_count": 14,
   "metadata": {},
   "outputs": [
    {
     "name": "stderr",
     "output_type": "stream",
     "text": [
      "c:\\Users\\James\\anaconda3\\envs\\mlenv\\lib\\site-packages\\sklearn\\svm\\_base.py:299: ConvergenceWarning: Solver terminated early (max_iter=500).  Consider pre-processing your data with StandardScaler or MinMaxScaler.\n",
      "  warnings.warn(\n"
     ]
    },
    {
     "name": "stdout",
     "output_type": "stream",
     "text": [
      "C=1\n",
      "\terr_tr=0.013966666666666667, err_te=0.0244\n",
      "\tnum_sup_vec = len(reg.support_)=9158\n"
     ]
    }
   ],
   "source": [
    "from sklearn.svm import SVC\n",
    "\n",
    "svm = SVC(kernel=\"poly\", degree = 2, C=1.0, max_iter=500)\n",
    "err_tr, err_te, reg = experiment(svm, X_tr, X_te, y_tr, y_te)\n",
    "print(f\"C={1}\")\n",
    "print(f\"\\t{err_tr=}, {err_te=}\")\n",
    "print(f\"\\tnum_sup_vec = {len(reg.support_)=}\")"
   ]
  },
  {
   "cell_type": "code",
   "execution_count": 15,
   "metadata": {},
   "outputs": [],
   "source": [
    "import matplotlib.pyplot as plt"
   ]
  },
  {
   "cell_type": "code",
   "execution_count": 22,
   "metadata": {},
   "outputs": [
    {
     "name": "stdout",
     "output_type": "stream",
     "text": [
      "(1000, 1000) (1000, 1000)\n",
      "(1000, 1000)\n"
     ]
    },
    {
     "data": {
      "text/plain": [
       "<matplotlib.lines.Line2D at 0x22e52dd4580>"
      ]
     },
     "execution_count": 22,
     "metadata": {},
     "output_type": "execute_result"
    },
    {
     "data": {
      "image/png": "[encoded data removed]",
      "text/plain": [
       "<Figure size 432x288 with 1 Axes>"
      ]
     },
     "metadata": {
      "needs_background": "light"
     },
     "output_type": "display_data"
    }
   ],
   "source": [
    "xx, yy = np.meshgrid(np.arange(-5, 5, 0.01), np.arange(-5, 5, 0.01))\n",
    "c1 = xx + yy\n",
    "c2 = xx + 1\n",
    "c3 = yy - 1\n",
    "z = np.argmax(np.stack((c1, c2, c3)), axis=0)\n",
    "print(xx.shape, yy.shape)\n",
    "print(z.shape)\n",
    "plt.pcolormesh(xx, yy, z, cmap=\"rainbow\", vmin=0, vmax=2)\n",
    "plt.axhline(0, color='black')\n",
    "plt.axvline(0, color='black')"
   ]
  }
 ],
 "metadata": {
  "kernelspec": {
   "display_name": "mlenv",
   "language": "python",
   "name": "python3"
  },
  "language_info": {
   "codemirror_mode": {
    "name": "ipython",
    "version": 3
   },
   "file_extension": ".py",
   "mimetype": "text/x-python",
   "name": "python",
   "nbconvert_exporter": "python",
   "pygments_lexer": "ipython3",
   "version": "3.8.15"
  },
  "orig_nbformat": 4,
  "vscode": {
   "interpreter": {
    "hash": "ecabccf6f348d9314d60527b6ca15ab5187889d68a9ff19ddb5072320bd253af"
   }
  }
 },
 "nbformat": 4,
 "nbformat_minor": 2
}
