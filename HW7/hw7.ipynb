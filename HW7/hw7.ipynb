{
 "cells": [
  {
   "attachments": {},
   "cell_type": "markdown",
   "metadata": {},
   "source": [
    "# Q6"
   ]
  },
  {
   "cell_type": "code",
   "execution_count": 24,
   "metadata": {},
   "outputs": [
    {
     "name": "stdout",
     "output_type": "stream",
     "text": [
      "(48, 2) (48,)\n"
     ]
    }
   ],
   "source": [
    "import numpy as np\n",
    "import matplotlib.pyplot as plt\n",
    "\n",
    "data0 = np.loadtxt(\"data0.txt\")\n",
    "X0 = data0[:,:2]\n",
    "y0 = data0[:,-1]\n",
    "print(X0.shape, y0.shape)"
   ]
  },
  {
   "cell_type": "code",
   "execution_count": 28,
   "metadata": {},
   "outputs": [],
   "source": [
    "def converged(w, b, X, y):\n",
    "  predictions = np.argmax((X @ w) + b.reshape((1, -1)), axis=1)\n",
    "  return np.allclose(predictions, y)\n",
    "def perceptron(X, y):\n",
    "  num_classes = len(np.unique(y))\n",
    "  n = X.shape[0]\n",
    "  w = np.zeros((X.shape[1], num_classes))\n",
    "  b = np.zeros(num_classes)\n",
    "\n",
    "  perm = np.random.choice(range(n), n, replace=False)\n",
    "  X_perm = X[perm]\n",
    "  y_perm = y[perm]\n",
    "  num_iterations = 0\n",
    "  max_iterations = 999\n",
    "  while not converged(w, b, X, y) and num_iterations < max_iterations:\n",
    "    for i in range(n):\n",
    "      Xi = X_perm[i]\n",
    "      yi = int(y_perm[i])\n",
    "      y_pred = int(np.argmax(Xi.reshape((1, -1)) @ w + b))\n",
    "      if yi != y_pred:\n",
    "        w[:,yi] += Xi\n",
    "        b[yi] += 1\n",
    "        w[:,y_pred] -= Xi\n",
    "        b[y_pred] -= 1\n",
    "    num_iterations += 1\n",
    "  return w, b\n",
    "def plot0(X, y, w, b):\n",
    "  min_x1, max_x1 = np.min(X[:,0]) - 0.5, np.max(X[:,0]) + 0.5\n",
    "  min_x2, max_x2 = np.min(X[:,1]) - 0.5, np.max(X[:,1]) + 0.5\n",
    "  delta = 0.1\n",
    "\n",
    "  plt.xlim(min_x1, max_x1)\n",
    "  plt.ylim(min_x2, max_x2)\n",
    "\n",
    "  xx, yy = np.meshgrid(np.arange(min_x1, max_x1 + delta, delta), np.arange(min_x2, max_x2 + delta, delta))\n",
    "  pairs = np.c_[xx.flatten(), yy.flatten()]\n",
    "  zz = np.zeros(len(pairs))\n",
    "  for i, pair in enumerate(pairs):\n",
    "    pair2 = pair.reshape((1, -1))\n",
    "    zz[i] = np.argmax((pair2 @ w ).flatten() + b)\n",
    "  zz = zz.reshape(xx.shape)\n",
    "  styles = [\"^r\", \"og\", \"pb\", \"*m\"]\n",
    "  for i in range(4):\n",
    "    Xi, yi = X[y==i], y[y==i]\n",
    "    plt.plot(Xi[:,0], Xi[:,1], styles[i])\n",
    "  plt.pcolormesh(xx, yy, zz, cmap=\"rainbow\", vmin=0, vmax=4)\n",
    "  plt.show()"
   ]
  },
  {
   "cell_type": "code",
   "execution_count": 29,
   "metadata": {},
   "outputs": [
    {
     "data": {
      "image/png": "[encoded data removed]",
      "text/plain": [
       "<Figure size 640x480 with 1 Axes>"
      ]
     },
     "metadata": {},
     "output_type": "display_data"
    }
   ],
   "source": [
    "np.random.seed(123)\n",
    "\n",
    "w, b = perceptron(X0, y0)\n",
    "plot0(X0, y0, w, b)"
   ]
  },
  {
   "attachments": {},
   "cell_type": "markdown",
   "metadata": {},
   "source": [
    "# Q7"
   ]
  },
  {
   "cell_type": "code",
   "execution_count": 30,
   "metadata": {},
   "outputs": [
    {
     "name": "stdout",
     "output_type": "stream",
     "text": [
      "(76, 2) (60, 2) (76,) (60,)\n"
     ]
    }
   ],
   "source": [
    "data1 = np.loadtxt(\"data1.txt\")\n",
    "data2 = np.loadtxt(\"data2.txt\")\n",
    "\n",
    "X1, y1 = data1[:,:-1], data1[:,-1]\n",
    "X2, y2 = data2[:,:-1], data2[:,-1]\n",
    "print(X1.shape, X2.shape, y1.shape, y2.shape)"
   ]
  },
  {
   "cell_type": "code",
   "execution_count": 54,
   "metadata": {},
   "outputs": [],
   "source": [
    "def kernel_classify(b, X, x, y, alpha):\n",
    "  terms = alpha.flatten() * y.flatten()\n",
    "  dots = ((1 + X @ x.reshape((-1, 1))) ** 2).flatten()\n",
    "  w_dot_phi = np.dot(terms, dots)\n",
    "  decision = w_dot_phi + b\n",
    "  return np.sign(decision)\n",
    "\n",
    "def kernel_converge(b, X, y, alpha):\n",
    "  dot_matrix = (1 + X @ X.T) ** 2\n",
    "  column_terms = (alpha * y).reshape((-1, 1))\n",
    "\n",
    "  logit_matrix = dot_matrix * column_terms\n",
    "  predictions = np.sum(logit_matrix, axis=0) + b\n",
    "\n",
    "  return np.allclose(np.sign(predictions), y)\n",
    "\n",
    "def kernel_perceptron(X, y):\n",
    "  n, d = X.shape\n",
    "  alpha = np.zeros(n)\n",
    "  b = 0\n",
    "\n",
    "  perm = np.random.choice(n, n, replace=False)\n",
    "  X_perm = X[perm]\n",
    "  y_perm = y[perm]\n",
    "\n",
    "  for i in range(999):\n",
    "    for j in range(n):\n",
    "      xj = X_perm[j]\n",
    "      yj = y_perm[j]\n",
    "      if kernel_classify(b, X, xj, y, alpha) != yj:\n",
    "        alpha[j] += 1\n",
    "        b += yj\n",
    "    if kernel_converge(b, X, y, alpha):\n",
    "      return alpha, b\n",
    "  print(\"Did not converge\")\n",
    "  return alpha, b\n",
    "  \n",
    "\n",
    "def gen_classify(alpha, b, X, y):\n",
    "  def clas(x):\n",
    "    phis = ((1 + X @ x.reshape((-1, 1))) ** 2).flatten()\n",
    "    decision = np.sum(alpha * y * phis) + b\n",
    "    return np.sign(decision)\n",
    "  return clas\n",
    "\n",
    "def plot1(X, y, classify, title=\"\"):\n",
    "  min_x1, max_x1 = np.min(X[:,0]) - 0.5, np.max(X[:,0]) + 0.5\n",
    "  min_x2, max_x2 = np.min(X[:,1]) - 0.5, np.max(X[:,1]) + 0.5\n",
    "  delta = 0.1\n",
    "\n",
    "  plt.xlim(min_x1, max_x1)\n",
    "  plt.ylim(min_x2, max_x2)\n",
    "\n",
    "  xx, yy = np.meshgrid(np.arange(min_x1, max_x1 + delta, delta), np.arange(min_x2, max_x2 + delta, delta))\n",
    "  pairs = np.c_[xx.flatten(), yy.flatten()]\n",
    "  zz = np.zeros(len(pairs))\n",
    "  for i, pair in enumerate(pairs):\n",
    "    pair2 = pair.reshape((1, -1))\n",
    "    zz[i] = classify(pair)\n",
    "  zz = zz.reshape(xx.shape)\n",
    "  styles = [\"^r\", \"og\"]\n",
    "  for idx, label in enumerate([-1, 1]):\n",
    "    Xi, yi = X[y==label], y[y==label]\n",
    "    plt.plot(Xi[:,0], Xi[:,1], styles[idx])\n",
    "  plt.pcolormesh(xx, yy, zz, cmap=plt.cm.PRGn, vmin=-2, vmax=2)\n",
    "  if title:\n",
    "    plt.title(title)\n",
    "  plt.show()"
   ]
  },
  {
   "cell_type": "code",
   "execution_count": 55,
   "metadata": {},
   "outputs": [
    {
     "name": "stdout",
     "output_type": "stream",
     "text": [
      "Did not converge\n"
     ]
    },
    {
     "data": {
      "image/png": "[encoded data removed]",
      "text/plain": [
       "<Figure size 640x480 with 1 Axes>"
      ]
     },
     "metadata": {},
     "output_type": "display_data"
    }
   ],
   "source": [
    "alpha, b = kernel_perceptron(X1, y1)\n",
    "clas = gen_classify(alpha, b, X1, y1)\n",
    "plot1(X1, y1, clas, title = \"data1.txt Kernel Perceptron\")"
   ]
  },
  {
   "cell_type": "code",
   "execution_count": null,
   "metadata": {},
   "outputs": [],
   "source": []
  }
 ],
 "metadata": {
  "kernelspec": {
   "display_name": "mlenv",
   "language": "python",
   "name": "python3"
  },
  "language_info": {
   "codemirror_mode": {
    "name": "ipython",
    "version": 3
   },
   "file_extension": ".py",
   "mimetype": "text/x-python",
   "name": "python",
   "nbconvert_exporter": "python",
   "pygments_lexer": "ipython3",
   "version": "3.9.15"
  },
  "orig_nbformat": 4,
  "vscode": {
   "interpreter": {
    "hash": "ecabccf6f348d9314d60527b6ca15ab5187889d68a9ff19ddb5072320bd253af"
   }
  }
 },
 "nbformat": 4,
 "nbformat_minor": 2
}
