{
 "cells": [
  {
   "cell_type": "code",
   "execution_count": 61,
   "metadata": {},
   "outputs": [
    {
     "name": "stdout",
     "output_type": "stream",
     "text": [
      "(303, 13) (303, 1)\n",
      "(200, 13) (200, 1) (103, 13) (103, 1)\n"
     ]
    }
   ],
   "source": [
    "import pandas as pd\n",
    "import numpy as np, os\n",
    "from pathlib import Path\n",
    "from sklearn import linear_model\n",
    "\n",
    "\n",
    "df = pd.read_csv(\"data/HW4/heart.csv\")\n",
    "df.head()\n",
    "\n",
    "X = np.array(df.iloc[:,:-1])\n",
    "y = np.array(df.iloc[:,[-1]])\n",
    "\n",
    "print(X.shape, y.shape)\n",
    "np.random.seed(123)\n",
    "idx = np.random.choice(303, 303, replace=False)\n",
    "tr_idx, te_idx = idx[:200], idx[200:]\n",
    "\n",
    "X_tr, y_tr = X[tr_idx], y[tr_idx]\n",
    "X_te, y_te = X[te_idx], y[te_idx]\n",
    "\n",
    "def normalize(mode, X_tr, X_te):\n",
    "  if mode == \"z\":\n",
    "    # z-score normalize\n",
    "    X_tr_mu = np.mean(X_tr, axis=0, keepdims=True)\n",
    "    X_tr_sig = np.std(X_tr, axis=0, keepdims=True)\n",
    "\n",
    "    X_tr_ = (X_tr - X_tr_mu) / X_tr_sig\n",
    "    X_te_ = (X_te - X_tr_mu) / X_tr_sig\n",
    "    return X_tr_, X_te_\n",
    "  elif mode == \"min-max\":\n",
    "    # min-max 0-1 normalization\n",
    "    X_tr_mi = np.min(X_tr, axis=0, keepdims=True)\n",
    "    X_tr_ma = np.max(X_tr, axis=0, keepdims=True)\n",
    "    X_tr_ = (X_tr - X_tr_mi) / (X_tr_ma - X_tr_mi)\n",
    "    X_te_ = (X_te - X_tr_mi) / (X_tr_ma - X_tr_mi)\n",
    "    return X_tr_, X_te_\n",
    "  else:\n",
    "    return X_tr, X_te\n",
    "\n",
    "def test_err(reg: linear_model.LogisticRegression, X, y):\n",
    "  y_hat = reg.predict(X)\n",
    "  err = np.not_equal(y_hat, y.flatten())\n",
    "  return np.sum(err)\n",
    "\n",
    "def compute_loss_with_bias(w, X, y):\n",
    "  terms = np.log(1 + np.exp(-y * X @ w))\n",
    "  assert(terms.shape == y.shape)\n",
    "  return np.sum(terms) / len(X)\n",
    "\n",
    "def compute_loss(reg: linear_model.LogisticRegression, X, y):\n",
    "  X_prime = np.hstack((X, np.ones((len(X), 1))))\n",
    "  w_prime = np.hstack((reg.coef_.flatten(), reg.intercept_.reshape((1,)))).reshape((-1, 1))\n",
    "  wx_b = reg.decision_function(X)\n",
    "  log_terms = np.log(1 + np.exp(-y.flatten() * wx_b.flatten()))\n",
    "  return np.sum(log_terms) / len(X)\n",
    "\n",
    "print(X_tr.shape, y_tr.shape, X_te.shape, y_te.shape)\n",
    "\n",
    "def experiment(mode):\n",
    "  print(f\"*** Using {mode} Normalization\")\n",
    "  X_tr_, X_te_ = normalize(mode, X_tr, X_te)\n",
    "  reg = linear_model.LogisticRegression(penalty=None, random_state = 123).fit(X_tr_, y_tr.flatten())\n",
    "  print(f\"*** With random state {reg.random_state}\")\n",
    "  w, b = reg.coef_, reg.intercept_\n",
    "  print(\"\\tw: \", np.round(w, 4).flatten())\n",
    "  print(\"\\tb: \", np.round(b, 4))\n",
    "\n",
    "  print(f\"=== Testing ===\")\n",
    "  err = test_err(reg, X_te_, y_te)  \n",
    "  print(f\"\\tError Rate: {np.sum(err)}/{len(y_te)}={np.sum(err)/len(y_te):0.4f}\")\n",
    "  \n",
    "  tr_loss = compute_loss(reg, X_tr_, y_tr)\n",
    "  te_loss = compute_loss(reg, X_te_, y_te)\n",
    "  print(f\"\\tTrain Loss: {tr_loss}, Test Loss: {te_loss}\")\n",
    "\n",
    "  print()\n",
    "  print(\"-\"*50)\n",
    "  print()\n",
    "  return tr_loss, te_loss"
   ]
  },
  {
   "cell_type": "code",
   "execution_count": 62,
   "metadata": {},
   "outputs": [
    {
     "name": "stdout",
     "output_type": "stream",
     "text": [
      "*** Using min-max Normalization\n",
      "*** With random state 123\n",
      "\tw:  [-0.0916 -2.3859  2.5735 -3.329  -3.3522  0.5152  0.6446  4.345  -0.9711\n",
      " -4.1391  1.8231 -3.505  -2.4696]\n",
      "\tb:  [2.4201]\n",
      "=== Testing ===\n",
      "\tError Rate: 13/103=0.1262\n",
      "\tTrain Loss: 0.48666074465306, Test Loss: 0.5078976863316779\n",
      "\n",
      "--------------------------------------------------\n",
      "\n"
     ]
    }
   ],
   "source": [
    "tr_loss, te_loss = experiment(\"min-max\")"
   ]
  },
  {
   "cell_type": "code",
   "execution_count": 71,
   "metadata": {},
   "outputs": [],
   "source": [
    "import tqdm\n",
    "\n",
    "def compute_gradient(w, X, y):\n",
    "  y_hat = 1 / (1 + np.exp(-y * X @ w))\n",
    "  wrong_prob = 1 - y_hat\n",
    "  matrix = y * X * wrong_prob\n",
    "  return np.mean(matrix, axis=0).reshape((-1, 1))\n",
    "\n",
    "def experiment_coordinate(mode, thresh, lr):\n",
    "  print(f\"*** Using {mode} Normalization, thresh {thresh:0.5f}\")\n",
    "  np.random.seed(123)\n",
    "  X_tr_, X_te_ = normalize(mode, X_tr, X_te)\n",
    "  n_tr, n_te = X_tr_.shape[0], X_te_.shape[0]\n",
    "  X_tr_, X_te_ = np.hstack((X_tr_, np.ones((n_tr, 1)))), np.hstack((X_te_, np.ones((n_te, 1))))\n",
    "\n",
    "  y_tr_, y_te_ = y_tr.reshape((-1, 1)), y_te.reshape((-1, 1))\n",
    "\n",
    "  w = np.random.normal(size=(X_tr_.shape[1], 1))\n",
    "  losses = [compute_loss_with_bias(w, X_tr_, y_tr_)]\n",
    "  te_losses = [compute_loss_with_bias(w, X_te_, y_te_)]\n",
    "  for i in tqdm.tqdm(range(10000)):\n",
    "    gradient = compute_gradient(w, X_tr_, y_tr_)\n",
    "    gradient_norm = np.linalg.norm(gradient.flatten())\n",
    "    if gradient_norm <= thresh:\n",
    "      print(f\"Breaking on iteration [{i}]\")\n",
    "      break\n",
    "    idx_big = np.argmax(np.abs(gradient).flatten())\n",
    "    sign = np.sign(gradient[idx_big,0])\n",
    "    w[idx_big,0] += sign * gradient_norm * lr\n",
    "    losses.append(compute_loss_with_bias(w, X_tr_, y_tr_))\n",
    "    te_losses.append(compute_loss_with_bias(w, X_te_, y_te_))\n",
    "\n",
    "  print()\n",
    "  print(\"-\"*50)\n",
    "  print()\n",
    "  return w, losses, te_losses, X_tr_, X_te_"
   ]
  },
  {
   "cell_type": "code",
   "execution_count": 72,
   "metadata": {},
   "outputs": [
    {
     "name": "stdout",
     "output_type": "stream",
     "text": [
      "*** Using min-max Normalization, thresh 0.20000\n"
     ]
    },
    {
     "name": "stderr",
     "output_type": "stream",
     "text": [
      " 78%|███████▊  | 7790/10000 [00:00<00:00, 17108.73it/s]"
     ]
    },
    {
     "name": "stdout",
     "output_type": "stream",
     "text": [
      "Breaking on iteration [7790]\n",
      "\n",
      "--------------------------------------------------\n",
      "\n"
     ]
    },
    {
     "name": "stderr",
     "output_type": "stream",
     "text": [
      "\n"
     ]
    },
    {
     "data": {
      "text/plain": [
       "<matplotlib.legend.Legend at 0x197adeffe50>"
      ]
     },
     "execution_count": 72,
     "metadata": {},
     "output_type": "execute_result"
    },
    {
     "data": {
      "image/png": "[encoded data removed]",
      "text/plain": [
       "<Figure size 640x480 with 1 Axes>"
      ]
     },
     "metadata": {},
     "output_type": "display_data"
    }
   ],
   "source": [
    "w, losses, te_losses, X_tr_, X_te_ = experiment_coordinate(\"min-max\", thresh = 0.2, lr = 1e-3)\n",
    "\n",
    "import matplotlib.pyplot as plt\n",
    "\n",
    "plt.plot(np.arange(0, len(losses)), losses, \"bo-\", markevery=1000, label = \"Coordinate Descent (train)\")\n",
    "plt.plot(np.arange(0, len(losses)), te_losses, \"co-\", markevery=1000, label = \"Coordinate Descent (test)\")\n",
    "plt.plot(np.arange(0, len(losses)), np.ones(len(losses)) * tr_loss, \"ro-\", markevery=1000, label = \"sklearn (train)\")\n",
    "plt.plot(np.arange(0, len(losses)), np.ones(len(losses)) * te_loss, \"yo-\", markevery=1000, label = \"sklearn (test)\")\n",
    "plt.legend()"
   ]
  },
  {
   "cell_type": "code",
   "execution_count": null,
   "metadata": {},
   "outputs": [],
   "source": []
  }
 ],
 "metadata": {
  "kernelspec": {
   "display_name": "mlenv",
   "language": "python",
   "name": "python3"
  },
  "language_info": {
   "codemirror_mode": {
    "name": "ipython",
    "version": 3
   },
   "file_extension": ".py",
   "mimetype": "text/x-python",
   "name": "python",
   "nbconvert_exporter": "python",
   "pygments_lexer": "ipython3",
   "version": "3.9.15"
  },
  "orig_nbformat": 4,
  "vscode": {
   "interpreter": {
    "hash": "ecabccf6f348d9314d60527b6ca15ab5187889d68a9ff19ddb5072320bd253af"
   }
  }
 },
 "nbformat": 4,
 "nbformat_minor": 2
}
