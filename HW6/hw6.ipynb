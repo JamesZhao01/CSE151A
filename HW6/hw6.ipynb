{
 "cells": [
  {
   "cell_type": "code",
   "execution_count": 2,
   "metadata": {},
   "outputs": [],
   "source": [
    "import numpy as np"
   ]
  },
  {
   "attachments": {},
   "cell_type": "markdown",
   "metadata": {},
   "source": [
    "### Q7"
   ]
  },
  {
   "cell_type": "code",
   "execution_count": 62,
   "metadata": {},
   "outputs": [],
   "source": [
    "# (7a)\n",
    "def perceptron(w, b, x):\n",
    "  return np.sign(np.dot(w.flatten(), x.flatten()) + b)\n",
    "\n",
    "def has_converged(w, b, X, l):\n",
    "  return np.allclose(np.sign(X @ w + b).flatten(), l.flatten())\n",
    "\n",
    "MAX_ITERS = 72\n",
    "\n",
    "def train(X, l):\n",
    "  # data: n x d, labels: n\n",
    "  n, d = X.shape\n",
    "  assert(l.shape == (n,))\n",
    "\n",
    "  w = np.zeros((d, 1))\n",
    "  b = 0\n",
    "\n",
    "  num_updates = 0\n",
    "\n",
    "  for i in range(MAX_ITERS):\n",
    "    permutation = np.random.choice(range(n), n, replace=False)\n",
    "    X_perm = X[permutation]\n",
    "    l_perm = l[permutation]\n",
    "\n",
    "    for j in range(n):\n",
    "      x_j = X_perm[[j],:]\n",
    "      l_j = l_perm[j]\n",
    "      if perceptron(w, b, x_j) != l_j:\n",
    "        num_updates += 1\n",
    "        w = w + l_j * x_j.reshape((-1, 1))\n",
    "        b += l_j\n",
    "\n",
    "    if has_converged(w, b, X_perm, l_perm):\n",
    "      break\n",
    "\n",
    "  return w, b, num_updates\n"
   ]
  },
  {
   "cell_type": "code",
   "execution_count": 100,
   "metadata": {},
   "outputs": [
    {
     "name": "stdout",
     "output_type": "stream",
     "text": [
      "(150, 4) (150,)\n",
      "(100, 2) (100,)\n"
     ]
    }
   ],
   "source": [
    "# (7b, 7c)\n",
    "\n",
    "from sklearn import datasets\n",
    "iris = datasets.load_iris()\n",
    "X0 = iris.data\n",
    "y0 = iris.target\n",
    "\n",
    "print(X0.shape, y0.shape)\n",
    "\n",
    "rows = np.array(np.nonzero(y0 <= 1)[0])\n",
    "\n",
    "X_1 = X0[rows.reshape((-1, 1)),(1,3)]\n",
    "y_1 = np.where(y0[rows] == 0, -1, 1)\n",
    "\n",
    "print(X_1.shape, y_1.shape)"
   ]
  },
  {
   "cell_type": "code",
   "execution_count": 108,
   "metadata": {},
   "outputs": [
    {
     "data": {
      "image/png": "[encoded data removed]",
      "text/plain": [
       "<Figure size 432x288 with 1 Axes>"
      ]
     },
     "metadata": {
      "needs_background": "light"
     },
     "output_type": "display_data"
    }
   ],
   "source": [
    "import matplotlib.pyplot as plt\n",
    "\n",
    "# (7c)\n",
    "np.random.seed(123)\n",
    "w, b, num_updates = train(X_1, y_1)\n",
    "\n",
    "def plot(w, b, X, l, draw_line = True, title = \"Perceptron\"):\n",
    "  w1, w2 = w.flatten()\n",
    "  x_min, x_max = np.min(X[:,0]), np.max(X[:,0])\n",
    "  line_x = np.linspace(x_min, x_max, 100)\n",
    "  # w1x + w2y + b = 0\n",
    "  # y = -w1/w2 x - b / w2\n",
    "  line_y = - w1 / w2 * line_x - b / w2\n",
    "\n",
    "\n",
    "  plt.plot(X[l==-1,0], X[l==-1,1], \"^k\")\n",
    "  plt.plot(X[l==1,0], X[l==1,1], \"ob\")\n",
    "  if draw_line:\n",
    "    plt.plot(line_x, line_y, \"-m\")\n",
    "  plt.xlabel(\"Feature 1\")\n",
    "  plt.ylabel(\"Feature 3\")\n",
    "  plt.title(title)\n",
    "\n",
    "plot(w, b, X_1, y_1)"
   ]
  },
  {
   "cell_type": "code",
   "execution_count": 102,
   "metadata": {},
   "outputs": [
    {
     "name": "stdout",
     "output_type": "stream",
     "text": [
      "Average number of updates: 258/20=12.9\n"
     ]
    },
    {
     "data": {
      "image/png": "[encoded data removed]",
      "text/plain": [
       "<Figure size 432x288 with 1 Axes>"
      ]
     },
     "metadata": {
      "needs_background": "light"
     },
     "output_type": "display_data"
    }
   ],
   "source": [
    "np.random.seed(1337)\n",
    "n_trials = 20\n",
    "updates = []\n",
    "for i in range(n_trials):\n",
    "  _, _, n_i = train(X_1, y_1)\n",
    "  updates.append(n_i)\n",
    "total_updates = sum(updates)\n",
    "print(f\"Average number of updates: {total_updates}/{n_trials}={total_updates / n_trials}\")\n",
    "plt.hist(updates);"
   ]
  },
  {
   "attachments": {},
   "cell_type": "markdown",
   "metadata": {},
   "source": [
    "### Q8"
   ]
  },
  {
   "cell_type": "code",
   "execution_count": 110,
   "metadata": {},
   "outputs": [
    {
     "name": "stdout",
     "output_type": "stream",
     "text": [
      "(150, 4) (150,)\n",
      "(100, 2) (100,)\n",
      "The data is NOT linearlly seperable\n"
     ]
    },
    {
     "data": {
      "image/png": "[encoded data removed]",
      "text/plain": [
       "<Figure size 432x288 with 1 Axes>"
      ]
     },
     "metadata": {
      "needs_background": "light"
     },
     "output_type": "display_data"
    }
   ],
   "source": [
    "rows_2 = np.array(np.nonzero(y0 > 0)[0])\n",
    "X_2 = X0[rows_2.reshape((-1, 1)),(0, 2)]\n",
    "y_2 = np.where(y0[rows_2] == 1, -1, 1)\n",
    "\n",
    "print(X0.shape, y0.shape)\n",
    "print(X_2.shape, y_2.shape)\n",
    "\n",
    "plot(np.ones((2, 1)), 1, X_2, y_2, draw_line = False, title = None)\n",
    "\n",
    "print(\"The data is NOT linearly seperable\")"
   ]
  }
 ],
 "metadata": {
  "language_info": {
   "name": "python"
  },
  "orig_nbformat": 4
 },
 "nbformat": 4,
 "nbformat_minor": 2
}
